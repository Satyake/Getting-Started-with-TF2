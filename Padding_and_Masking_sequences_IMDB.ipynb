{
  "nbformat": 4,
  "nbformat_minor": 0,
  "metadata": {
    "colab": {
      "name": "Padding and Masking sequences IMDB",
      "provenance": [],
      "authorship_tag": "ABX9TyNVx96Vw33EWdauKezy6lw9",
      "include_colab_link": true
    },
    "kernelspec": {
      "name": "python3",
      "display_name": "Python 3"
    },
    "language_info": {
      "name": "python"
    }
  },
  "cells": [
    {
      "cell_type": "markdown",
      "metadata": {
        "id": "view-in-github",
        "colab_type": "text"
      },
      "source": [
        "<a href=\"https://colab.research.google.com/github/Satyake/Getting-Started-with-TF2/blob/main/Padding_and_Masking_sequences_IMDB.ipynb\" target=\"_parent\"><img src=\"https://colab.research.google.com/assets/colab-badge.svg\" alt=\"Open In Colab\"/></a>"
      ]
    },
    {
      "cell_type": "code",
      "execution_count": null,
      "metadata": {
        "id": "uQZAQ7JTCgCB"
      },
      "outputs": [],
      "source": [
        "import tensorflow as tf\n"
      ]
    },
    {
      "cell_type": "code",
      "source": [
        "(x_train,y_train),(x_test,y_Test)=tf.keras.datasets.imdb.load_data()"
      ],
      "metadata": {
        "colab": {
          "base_uri": "https://localhost:8080/"
        },
        "id": "8lJgw41ICpDS",
        "outputId": "874ff1d0-afee-42f8-9567-656be710b027"
      },
      "execution_count": null,
      "outputs": [
        {
          "output_type": "stream",
          "name": "stdout",
          "text": [
            "Downloading data from https://storage.googleapis.com/tensorflow/tf-keras-datasets/imdb.npz\n",
            "17465344/17464789 [==============================] - 0s 0us/step\n",
            "17473536/17464789 [==============================] - 0s 0us/step\n"
          ]
        }
      ]
    },
    {
      "cell_type": "code",
      "source": [
        "x_train.shape"
      ],
      "metadata": {
        "colab": {
          "base_uri": "https://localhost:8080/"
        },
        "id": "IUUJJX4HS8Zv",
        "outputId": "e7e783dc-4cd8-40c5-9490-3227d1ee4a81"
      },
      "execution_count": null,
      "outputs": [
        {
          "output_type": "execute_result",
          "data": {
            "text/plain": [
              "(25000,)"
            ]
          },
          "metadata": {},
          "execution_count": 3
        }
      ]
    },
    {
      "cell_type": "code",
      "source": [
        "padded_x_train=tf.keras.preprocessing.sequence.pad_sequences(x_train,maxlen=300, padding='post',truncating='pre')"
      ],
      "metadata": {
        "id": "TaK3BlwyS964"
      },
      "execution_count": null,
      "outputs": []
    },
    {
      "cell_type": "code",
      "source": [
        "padded_x_train.shape"
      ],
      "metadata": {
        "colab": {
          "base_uri": "https://localhost:8080/"
        },
        "id": "Ypo4aGhkTN2k",
        "outputId": "9d75da92-3109-42a3-b237-c9ad9e34eaf7"
      },
      "execution_count": null,
      "outputs": [
        {
          "output_type": "execute_result",
          "data": {
            "text/plain": [
              "(25000, 300)"
            ]
          },
          "metadata": {},
          "execution_count": 5
        }
      ]
    },
    {
      "cell_type": "code",
      "source": [
        "padded_x_train"
      ],
      "metadata": {
        "colab": {
          "base_uri": "https://localhost:8080/"
        },
        "id": "dTisdCf4TVnk",
        "outputId": "664afa7f-4c68-4abd-ace0-dbcd8c360ab8"
      },
      "execution_count": null,
      "outputs": [
        {
          "output_type": "execute_result",
          "data": {
            "text/plain": [
              "array([[   1,   14,   22, ...,    0,    0,    0],\n",
              "       [   1,  194, 1153, ...,    0,    0,    0],\n",
              "       [   1,   14,   47, ...,    0,    0,    0],\n",
              "       ...,\n",
              "       [   1,   11,    6, ...,    0,    0,    0],\n",
              "       [   1, 1446, 7079, ...,    0,    0,    0],\n",
              "       [   1,   17,    6, ...,    0,    0,    0]], dtype=int32)"
            ]
          },
          "metadata": {},
          "execution_count": 6
        }
      ]
    },
    {
      "cell_type": "code",
      "source": [
        "#create masking layer\n",
        "import numpy as np \n",
        "padded_x_train=np.expand_dims(padded_x_train,-1)"
      ],
      "metadata": {
        "id": "0lydS-rjTQYy"
      },
      "execution_count": null,
      "outputs": []
    },
    {
      "cell_type": "code",
      "source": [
        "tf_x_train=tf.convert_to_tensor(padded_x_train,dtype='float32')\n",
        "masking_layer=tf.keras.layers.Masking(mask_value=0.0)"
      ],
      "metadata": {
        "id": "8ud_x5MqThXv"
      },
      "execution_count": null,
      "outputs": []
    },
    {
      "cell_type": "code",
      "source": [
        "masked_x_train=masking_layer(tf_x_train)"
      ],
      "metadata": {
        "id": "Z_kGlh5ETufx"
      },
      "execution_count": null,
      "outputs": []
    },
    {
      "cell_type": "code",
      "source": [
        "padded_x_train.shape"
      ],
      "metadata": {
        "colab": {
          "base_uri": "https://localhost:8080/"
        },
        "id": "2MHChqU9Tyjn",
        "outputId": "accb4412-3eda-424e-d72e-311e8b48195f"
      },
      "execution_count": null,
      "outputs": [
        {
          "output_type": "execute_result",
          "data": {
            "text/plain": [
              "(25000, 300, 1)"
            ]
          },
          "metadata": {},
          "execution_count": 10
        }
      ]
    },
    {
      "cell_type": "code",
      "source": [
        "masked_x_train._keras_mask"
      ],
      "metadata": {
        "colab": {
          "base_uri": "https://localhost:8080/"
        },
        "id": "RQvvx2oBT_8F",
        "outputId": "e2e2eb5c-d07c-4fe2-a569-c86543ee72f3"
      },
      "execution_count": null,
      "outputs": [
        {
          "output_type": "execute_result",
          "data": {
            "text/plain": [
              "<tf.Tensor: shape=(25000, 300), dtype=bool, numpy=\n",
              "array([[ True,  True,  True, ..., False, False, False],\n",
              "       [ True,  True,  True, ..., False, False, False],\n",
              "       [ True,  True,  True, ..., False, False, False],\n",
              "       ...,\n",
              "       [ True,  True,  True, ..., False, False, False],\n",
              "       [ True,  True,  True, ..., False, False, False],\n",
              "       [ True,  True,  True, ..., False, False, False]])>"
            ]
          },
          "metadata": {},
          "execution_count": 11
        }
      ]
    },
    {
      "cell_type": "code",
      "source": [
        "import tensorflow as tf"
      ],
      "metadata": {
        "id": "A6JM1Vxk3z8L"
      },
      "execution_count": null,
      "outputs": []
    },
    {
      "cell_type": "code",
      "source": [
        "embedding_layer=tf.keras.layers.Embedding(input_dim=501,output_dim=16)"
      ],
      "metadata": {
        "id": "bBfaXSXl3jrF"
      },
      "execution_count": null,
      "outputs": []
    },
    {
      "cell_type": "code",
      "source": [
        "sequence_of_indices=tf.constant([[[0],[1],[5],[50]]])\n",
        "sequence_of_embeddings=embedding_layer(sequence_of_indices\n",
        "                                       )\n",
        "sequence_of_embeddings"
      ],
      "metadata": {
        "colab": {
          "base_uri": "https://localhost:8080/"
        },
        "id": "Rt3XFjK-4DSS",
        "outputId": "50959625-20e4-44c5-8a59-1df40f320764"
      },
      "execution_count": null,
      "outputs": [
        {
          "output_type": "execute_result",
          "data": {
            "text/plain": [
              "<tf.Tensor: shape=(1, 4, 1, 16), dtype=float32, numpy=\n",
              "array([[[[ 0.04390058,  0.01777497,  0.02436456, -0.02519504,\n",
              "          -0.03898046, -0.02441217, -0.02477731,  0.00400354,\n",
              "          -0.00698522, -0.013845  ,  0.01258756,  0.03872707,\n",
              "           0.03128589,  0.04832882, -0.03788554, -0.03808113]],\n",
              "\n",
              "        [[ 0.04855194,  0.03093058,  0.02782265,  0.00340243,\n",
              "           0.0259508 , -0.01014905,  0.04204423,  0.01710114,\n",
              "          -0.00097584,  0.03351405,  0.00215127,  0.03752736,\n",
              "           0.04905352, -0.00020253,  0.02268619, -0.01429669]],\n",
              "\n",
              "        [[-0.01492436,  0.04083197, -0.00974549,  0.01143099,\n",
              "           0.02827933, -0.00129422, -0.03963083, -0.0478451 ,\n",
              "          -0.02061985,  0.03460193, -0.038879  , -0.01264343,\n",
              "           0.03778187, -0.04549462, -0.02791782, -0.00639603]],\n",
              "\n",
              "        [[-0.04828286, -0.01298241,  0.01563026,  0.01799377,\n",
              "           0.04425141, -0.01364617, -0.03510219, -0.04126734,\n",
              "           0.02468811,  0.01182506,  0.00116751,  0.04074888,\n",
              "           0.01699939,  0.0332845 , -0.04446434, -0.03653925]]]],\n",
              "      dtype=float32)>"
            ]
          },
          "metadata": {},
          "execution_count": 15
        }
      ]
    },
    {
      "cell_type": "code",
      "source": [
        "embedding_layer.get_weights()[0][14]"
      ],
      "metadata": {
        "colab": {
          "base_uri": "https://localhost:8080/"
        },
        "id": "E_zJED-l4plG",
        "outputId": "b058e36d-9229-4070-ac96-3badc74025e6"
      },
      "execution_count": null,
      "outputs": [
        {
          "output_type": "execute_result",
          "data": {
            "text/plain": [
              "array([ 0.0462417 ,  0.04721952, -0.04246415,  0.01223295, -0.04827063,\n",
              "        0.03276553, -0.04850506, -0.00932475,  0.02760671,  0.02325908,\n",
              "       -0.01827338, -0.00435015,  0.00520893,  0.00827495, -0.02661854,\n",
              "        0.00493584], dtype=float32)"
            ]
          },
          "metadata": {},
          "execution_count": 17
        }
      ]
    },
    {
      "cell_type": "code",
      "source": [
        "masking_embedding_layer=tf.keras.layers.Embedding(input_dim=501,output_dim=16,mask_zero=True)\n",
        "masked_sequence_of_embeddings=masking_embedding_layer(sequence_of_indices)"
      ],
      "metadata": {
        "id": "a3qJ4wnH45Kj"
      },
      "execution_count": null,
      "outputs": []
    }
  ]
}