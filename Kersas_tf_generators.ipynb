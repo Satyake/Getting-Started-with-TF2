{
  "nbformat": 4,
  "nbformat_minor": 0,
  "metadata": {
    "colab": {
      "name": "Kersas tf generators",
      "provenance": [],
      "authorship_tag": "ABX9TyMQ9WupJzhyZG//dFLJ6Ke4",
      "include_colab_link": true
    },
    "kernelspec": {
      "name": "python3",
      "display_name": "Python 3"
    },
    "language_info": {
      "name": "python"
    }
  },
  "cells": [
    {
      "cell_type": "markdown",
      "metadata": {
        "id": "view-in-github",
        "colab_type": "text"
      },
      "source": [
        "<a href=\"https://colab.research.google.com/github/Satyake/Getting-Started-with-TF2/blob/main/Kersas_tf_generators.ipynb\" target=\"_parent\"><img src=\"https://colab.research.google.com/assets/colab-badge.svg\" alt=\"Open In Colab\"/></a>"
      ]
    },
    {
      "cell_type": "code",
      "execution_count": null,
      "metadata": {
        "id": "dnEPEjlZtJ72"
      },
      "outputs": [],
      "source": [
        "import tensorflow as tf \n",
        "import numpy as np \n",
        "import matplotlib.pyplot as plt\n"
      ]
    },
    {
      "cell_type": "code",
      "source": [
        "from tensorflow.keras.datasets import cifar10"
      ],
      "metadata": {
        "id": "GV88YQFP_MEZ"
      },
      "execution_count": null,
      "outputs": []
    },
    {
      "cell_type": "code",
      "source": [
        "(training_features,training_labels),(testing_features,testing_labels)=cifar10.load_data()"
      ],
      "metadata": {
        "id": "eJE9C0sY_Th8"
      },
      "execution_count": null,
      "outputs": []
    },
    {
      "cell_type": "code",
      "source": [
        "num_classes=10\n",
        "training_labels=tf.keras.utils.to_categorical(training_labels,num_classes)\n",
        "test_labels=tf.keras.utils.to_categorical(testing_labels,num_classes)"
      ],
      "metadata": {
        "id": "1Dj7WOMD_jZz"
      },
      "execution_count": null,
      "outputs": []
    },
    {
      "cell_type": "code",
      "source": [
        "print(training_labels.shape)\n",
        "print(testing_labels.shape)"
      ],
      "metadata": {
        "colab": {
          "base_uri": "https://localhost:8080/"
        },
        "id": "MMfD5xGS_2el",
        "outputId": "14a60d5f-8846-44cd-a67f-26824ce4f43c"
      },
      "execution_count": null,
      "outputs": [
        {
          "output_type": "stream",
          "name": "stdout",
          "text": [
            "(50000, 10)\n",
            "(10000, 1)\n"
          ]
        }
      ]
    },
    {
      "cell_type": "code",
      "source": [
        "def make_generator(features,labels,batch_size=1):\n",
        "  for i in range(int(len(features)/batch_size)):\n",
        "    yield (features[i*batch_size:(i+1)*batch_size],labels[i*batch_size:(i+1)*batch_size])"
      ],
      "metadata": {
        "id": "TsJcMGDJ_8Wu"
      },
      "execution_count": null,
      "outputs": []
    },
    {
      "cell_type": "code",
      "source": [
        "training_generator=make_generator(training_features,training_labels)"
      ],
      "metadata": {
        "id": "T6enJf3VAfAm"
      },
      "execution_count": null,
      "outputs": []
    },
    {
      "cell_type": "code",
      "source": [
        "image,label=next(training_generator)\n",
        "print(image.shape)\n",
        "print(label.shape)\n"
      ],
      "metadata": {
        "colab": {
          "base_uri": "https://localhost:8080/"
        },
        "id": "WuivzXDwAkPx",
        "outputId": "3e141083-d052-48ee-f1b5-85e806c271fc"
      },
      "execution_count": null,
      "outputs": [
        {
          "output_type": "stream",
          "name": "stdout",
          "text": [
            "(1, 32, 32, 3)\n",
            "(1, 10)\n"
          ]
        }
      ]
    },
    {
      "cell_type": "code",
      "source": [
        "from tensorflow.keras.preprocessing.image import ImageDataGenerator"
      ],
      "metadata": {
        "id": "A8alue8yA7Gg"
      },
      "execution_count": null,
      "outputs": []
    },
    {
      "cell_type": "code",
      "source": [
        "image_generator=ImageDataGenerator(rescale=1/255.0,rotation_range=180)"
      ],
      "metadata": {
        "id": "3Sgp_KXIA_81"
      },
      "execution_count": null,
      "outputs": []
    },
    {
      "cell_type": "code",
      "source": [
        "image_generator.fit(training_features)"
      ],
      "metadata": {
        "id": "hs4Jrc1IBO9K"
      },
      "execution_count": null,
      "outputs": []
    },
    {
      "cell_type": "code",
      "source": [
        "image_generator_iterable=image_generator.flow(training_features,training_labels,shuffle=False)"
      ],
      "metadata": {
        "id": "EEKoTrfIBTGW"
      },
      "execution_count": null,
      "outputs": []
    },
    {
      "cell_type": "code",
      "source": [
        "images,labels=next(image_generator_iterable)\n",
        "print(images.shape)\n",
        "print(labels.shape)"
      ],
      "metadata": {
        "colab": {
          "base_uri": "https://localhost:8080/"
        },
        "id": "Be4CedoJBhE_",
        "outputId": "9430af43-f6cb-499a-acda-fbe69cf115b5"
      },
      "execution_count": null,
      "outputs": [
        {
          "output_type": "stream",
          "name": "stdout",
          "text": [
            "(32, 32, 32, 3)\n",
            "(32, 10)\n"
          ]
        }
      ]
    },
    {
      "cell_type": "code",
      "source": [
        "!unzip '/content/bank.zip'"
      ],
      "metadata": {
        "colab": {
          "base_uri": "https://localhost:8080/"
        },
        "id": "uareDqJcj00i",
        "outputId": "a691b48b-94b4-483b-ca57-5f42dc4412b9"
      },
      "execution_count": null,
      "outputs": [
        {
          "output_type": "stream",
          "name": "stdout",
          "text": [
            "Archive:  /content/bank.zip\n",
            "  inflating: bank-full.csv           \n",
            "  inflating: bank-names.txt          \n",
            "  inflating: bank.csv                \n"
          ]
        }
      ]
    },
    {
      "cell_type": "code",
      "source": [
        ""
      ],
      "metadata": {
        "id": "71yFH-ksshJv"
      },
      "execution_count": null,
      "outputs": []
    }
  ]
}