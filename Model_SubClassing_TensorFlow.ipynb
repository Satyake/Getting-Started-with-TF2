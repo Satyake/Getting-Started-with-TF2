{
  "nbformat": 4,
  "nbformat_minor": 0,
  "metadata": {
    "colab": {
      "name": "Model SubClassing - TensorFlow ",
      "provenance": [],
      "authorship_tag": "ABX9TyNDssnX1GvjiiUA9Jqe1uQ1",
      "include_colab_link": true
    },
    "kernelspec": {
      "name": "python3",
      "display_name": "Python 3"
    },
    "language_info": {
      "name": "python"
    }
  },
  "cells": [
    {
      "cell_type": "markdown",
      "metadata": {
        "id": "view-in-github",
        "colab_type": "text"
      },
      "source": [
        "<a href=\"https://colab.research.google.com/github/Satyake/Getting-Started-with-TF2/blob/main/Model_SubClassing_TensorFlow.ipynb\" target=\"_parent\"><img src=\"https://colab.research.google.com/assets/colab-badge.svg\" alt=\"Open In Colab\"/></a>"
      ]
    },
    {
      "cell_type": "code",
      "execution_count": null,
      "metadata": {
        "id": "AiNWJ9hkq4G0"
      },
      "outputs": [],
      "source": [
        "from tensorflow.keras.models import Model\n",
        "from tensorflow.keras.layers import Dense,Dropout, Softmax, concatenate\n",
        "import tensorflow as tf"
      ]
    },
    {
      "cell_type": "code",
      "source": [
        "class My_model(Model):\n",
        "  def __init__(self):\n",
        "    super(My_model,self).__init__()\n",
        "    self.dense_1=Dense(64,activation='relu')\n",
        "    self.dense_2=Dense(10)\n",
        "\n",
        "  def call(self, inputs):\n",
        "    x=self.dense_1(inputs)\n",
        "    return self.dense_2(x)"
      ],
      "metadata": {
        "id": "DKnHzZhK3HmX"
      },
      "execution_count": null,
      "outputs": []
    },
    {
      "cell_type": "code",
      "source": [
        "model=My_model()\n",
        "model(tf.random.uniform([1,10]))\n",
        "model.summary()"
      ],
      "metadata": {
        "colab": {
          "base_uri": "https://localhost:8080/"
        },
        "id": "D3ozR6Tc3kLJ",
        "outputId": "3fee8398-03af-496c-c1c6-18da4b1e04d2"
      },
      "execution_count": null,
      "outputs": [
        {
          "output_type": "stream",
          "name": "stdout",
          "text": [
            "Model: \"my_model\"\n",
            "_________________________________________________________________\n",
            " Layer (type)                Output Shape              Param #   \n",
            "=================================================================\n",
            " dense (Dense)               multiple                  704       \n",
            "                                                                 \n",
            " dense_1 (Dense)             multiple                  650       \n",
            "                                                                 \n",
            "=================================================================\n",
            "Total params: 1,354\n",
            "Trainable params: 1,354\n",
            "Non-trainable params: 0\n",
            "_________________________________________________________________\n"
          ]
        }
      ]
    },
    {
      "cell_type": "code",
      "source": [
        "class My_model(Model):\n",
        "  def __init__(self):\n",
        "    super(My_model,self).__init__()\n",
        "    self.dense_1=Dense(64,activation='relu')\n",
        "    self.dense_2=Dense(10)\n",
        "    self.dense_3=Dense(5)\n",
        "    self.dropout=Dropout(0.4)\n",
        "    self.softmax=Softmax()\n",
        "\n",
        "  def call(self, inputs,training=True):\n",
        "    x=self.dense_1(inputs)\n",
        "    y1=self.dense_2(inputs)\n",
        "    y2=self.dense_3(y1)\n",
        "    concat=concatenate([x,y2])\n",
        "    return self.softmax(concat)"
      ],
      "metadata": {
        "id": "Ntk-9EjD3xGy"
      },
      "execution_count": null,
      "outputs": []
    },
    {
      "cell_type": "code",
      "source": [
        "model=My_model()\n",
        "model(tf.random.uniform([1,10]))\n",
        "model.summary()"
      ],
      "metadata": {
        "colab": {
          "base_uri": "https://localhost:8080/"
        },
        "id": "fPHSrzhJ3-5t",
        "outputId": "128029fd-592e-422d-99ef-e1ec90077585"
      },
      "execution_count": null,
      "outputs": [
        {
          "output_type": "stream",
          "name": "stdout",
          "text": [
            "Model: \"my_model_1\"\n",
            "_________________________________________________________________\n",
            " Layer (type)                Output Shape              Param #   \n",
            "=================================================================\n",
            " dense_2 (Dense)             multiple                  704       \n",
            "                                                                 \n",
            " dense_3 (Dense)             multiple                  110       \n",
            "                                                                 \n",
            " dense_4 (Dense)             multiple                  55        \n",
            "                                                                 \n",
            " dropout (Dropout)           multiple                  0 (unused)\n",
            "                                                                 \n",
            " softmax (Softmax)           multiple                  0         \n",
            "                                                                 \n",
            "=================================================================\n",
            "Total params: 869\n",
            "Trainable params: 869\n",
            "Non-trainable params: 0\n",
            "_________________________________________________________________\n"
          ]
        }
      ]
    },
    {
      "cell_type": "code",
      "source": [
        "from tensorflow.keras.models import Model\n",
        "from tensorflow.keras.layers import Layer,Softmax"
      ],
      "metadata": {
        "id": "UzY8n-0M5UVg"
      },
      "execution_count": null,
      "outputs": []
    },
    {
      "cell_type": "code",
      "source": [
        "class My_layer(Layer):\n",
        "  def __init__(self,units,input_dim):\n",
        "    super(My_layer,self).__init__()\n",
        "    self.w=self.add_weight(shape=(input_dim,units),initializer='random_normal')\n",
        "    self.b=self.add_weight(shape=(units),initializer='zeros')\n",
        "\n",
        "    def call(self,inputs):\n",
        "      return tf.matmul(inputs,self.w)+self.b\n",
        "\n"
      ],
      "metadata": {
        "id": "RB5WFPprDXES"
      },
      "execution_count": null,
      "outputs": []
    },
    {
      "cell_type": "code",
      "source": [
        "dense_layer=My_layer(3,5)\n",
        "x=tf.ones((1,5))\n",
        "print(dense_layer(x))\n",
        "print(dense_layer.weights)"
      ],
      "metadata": {
        "colab": {
          "base_uri": "https://localhost:8080/"
        },
        "id": "aPtbjRQJM_v3",
        "outputId": "3b49a658-e253-48f1-eb71-b7e301ed48ac"
      },
      "execution_count": null,
      "outputs": [
        {
          "output_type": "stream",
          "name": "stdout",
          "text": [
            "tf.Tensor([[1. 1. 1. 1. 1.]], shape=(1, 5), dtype=float32)\n",
            "[<tf.Variable 'Variable:0' shape=(5, 3) dtype=float32, numpy=\n",
            "array([[-0.04148162, -0.03699851, -0.04818638],\n",
            "       [-0.11452555, -0.01751169, -0.02340675],\n",
            "       [ 0.044606  , -0.04807325,  0.03252507],\n",
            "       [ 0.04567571,  0.04104174,  0.04394555],\n",
            "       [-0.05608606, -0.00826648, -0.07517032]], dtype=float32)>, <tf.Variable 'Variable:0' shape=(3,) dtype=float32, numpy=array([0., 0., 0.], dtype=float32)>]\n"
          ]
        }
      ]
    },
    {
      "cell_type": "code",
      "source": [
        "#setting trainable to false for freezing and unfreezing of weights\n",
        "print(len(dense_layer.trainable_weights))\n",
        "print(len(dense_layer.non_trainable_weights))"
      ],
      "metadata": {
        "colab": {
          "base_uri": "https://localhost:8080/"
        },
        "id": "ERcgMrAWs_e9",
        "outputId": "3400845e-985e-4fca-e482-e204a8c912b9"
      },
      "execution_count": null,
      "outputs": [
        {
          "output_type": "stream",
          "name": "stdout",
          "text": [
            "2\n",
            "0\n"
          ]
        }
      ]
    },
    {
      "cell_type": "code",
      "source": [
        "# setting non trainablility \n",
        "class My_layer(Layer):\n",
        "  def __init__(self,units,input_dim):\n",
        "    super(My_layer,self).__init__()\n",
        "    self.w=self.add_weight(shape=(input_dim,units),initializer='random_normal',trainable=False)\n",
        "    self.b=self.add_weight(shape=(units),initializer='zeros')\n",
        "\n",
        "    def call(self,inputs):\n",
        "      return tf.matmul(inputs,self.w)+self.b\n",
        "\n"
      ],
      "metadata": {
        "id": "p9IezsDjxmDi"
      },
      "execution_count": null,
      "outputs": []
    },
    {
      "cell_type": "code",
      "source": [
        "#create custom layer to accumulate means of output values\n",
        "class Layer_Accumulation(Layer):\n",
        "  def __init__(self,units,input_dim):\n",
        "    super(Layer_Accumulation,self).__init__()\n",
        "    self.w=self.add_weight(shape=(input_dim,units),trainable=True)\n",
        "    self.b=self.add_weight(shape=(units,),trainable=True)\n",
        "    self.sum_act=tf.Variable(initial_value=tf.zeros((units)),trainable=False)\n",
        "    self.num_cnt=tf.Variable(initial_value=0,trainable=False)\n",
        "  def call(self,inputs):\n",
        "    output=tf.matmul(inputs,self.w)+self.b\n",
        "    self.sum_act.assign_add(tf.reduce_sum(output,axis=0))\n",
        "    self.num_cnt.assign_add(inputs.shape[0])\n",
        "    return output, self.num_cnt/(self.num_cnt)\n",
        "\n",
        "\n",
        "\n",
        "    "
      ],
      "metadata": {
        "id": "lbeuvWO4yj3F"
      },
      "execution_count": null,
      "outputs": []
    },
    {
      "cell_type": "code",
      "source": [
        "#Testing the layer\n",
        "dense=Layer_Accumulation(3,5)\n",
        "y, activation_means=dense(tf.ones((1,5)))\n"
      ],
      "metadata": {
        "id": "kq18Y68uE2ku"
      },
      "execution_count": null,
      "outputs": []
    },
    {
      "cell_type": "code",
      "source": [
        "print(y)"
      ],
      "metadata": {
        "colab": {
          "base_uri": "https://localhost:8080/"
        },
        "id": "4w1RTr_rFu31",
        "outputId": "4e407c02-0792-4857-879a-ef749e75bd6f"
      },
      "execution_count": null,
      "outputs": [
        {
          "output_type": "stream",
          "name": "stdout",
          "text": [
            "tf.Tensor([[ 0.40888172 -0.37048787 -1.1715807 ]], shape=(1, 3), dtype=float32)\n"
          ]
        }
      ]
    },
    {
      "cell_type": "code",
      "source": [
        "print(dense.trainable_weights)"
      ],
      "metadata": {
        "colab": {
          "base_uri": "https://localhost:8080/"
        },
        "id": "twlwe3mfFxUp",
        "outputId": "0cf04dc2-5fa7-4ce8-f770-eee28274f2fb"
      },
      "execution_count": null,
      "outputs": [
        {
          "output_type": "stream",
          "name": "stdout",
          "text": [
            "[<tf.Variable 'Variable:0' shape=(5, 3) dtype=float32, numpy=\n",
            "array([[-0.3516118 , -0.8073976 , -0.12117243],\n",
            "       [ 0.8551691 , -0.09330612, -0.22985095],\n",
            "       [-0.71801496, -0.44855377,  0.16776055],\n",
            "       [ 0.40865988, -0.37891626, -0.49132848],\n",
            "       [-0.530041  ,  0.8344491 , -0.3900732 ]], dtype=float32)>, <tf.Variable 'Variable:0' shape=(3,) dtype=float32, numpy=array([ 0.74472046,  0.52323675, -0.10691619], dtype=float32)>]\n"
          ]
        }
      ]
    },
    {
      "cell_type": "code",
      "source": [
        "print(activation_means.numpy())"
      ],
      "metadata": {
        "colab": {
          "base_uri": "https://localhost:8080/"
        },
        "id": "Wxa0aQeiF2Bn",
        "outputId": "73e0f469-d072-4321-98f4-661168f78d7d"
      },
      "execution_count": null,
      "outputs": [
        {
          "output_type": "stream",
          "name": "stdout",
          "text": [
            "1.0\n"
          ]
        }
      ]
    },
    {
      "cell_type": "code",
      "source": [
        "#Dropouts\n",
        "class mydropout(Layer):\n",
        "  def __init__(self,rate):\n",
        "    super(mydropout,self).__init__()\n",
        "    self.rate=rate\n",
        "  def call(self,inputs):\n",
        "    return tf.nn.dropout(inputs,rate=self.rate)"
      ],
      "metadata": {
        "id": "dMDUU_isGCaO"
      },
      "execution_count": null,
      "outputs": []
    },
    {
      "cell_type": "code",
      "source": [
        "class complete_model(Model):\n",
        "  def __init__(self,units_1,input_dim1,units_2,units_3):\n",
        "    super(complete_model,self).__init__()\n",
        "    self.layer1= My_layer(units_1,input_dim1)\n",
        "    self.dropout1=mydropout(0.5)\n",
        "    self.layer2= My_layer(units_2,units_1)\n",
        "    self.dropout2=mydropout(0.5)\n",
        "    self.layer3= My_layer(units_3,units_2)\n",
        "    self.softmax=Softmax()\n",
        "  def call(self,inputs):\n",
        "    x=self.layer1(inputs)\n",
        "    x=tf.nn.relu(x)\n",
        "    x=self.dropout1(x)\n",
        "    x=self.layer2(x)\n",
        "    x=tf.nn.relu(x)\n",
        "    x=self.dropout2(x)\n",
        "    x= self.softmax(x)\n",
        "    return x"
      ],
      "metadata": {
        "id": "KDCsXErjRZe0"
      },
      "execution_count": null,
      "outputs": []
    },
    {
      "cell_type": "code",
      "source": [
        "model=complete_model(64,1000,64,46)\n",
        "input_shape=(64,1000,64,46)\n",
        "model.build(input_shape)\n",
        "#print(model(tf.ones((1,1000))))\n",
        "model.summary()"
      ],
      "metadata": {
        "colab": {
          "base_uri": "https://localhost:8080/"
        },
        "id": "isQDZfMtS10Q",
        "outputId": "8164347a-ccd5-4776-fbe1-adf1f97ae6b9"
      },
      "execution_count": null,
      "outputs": [
        {
          "output_type": "stream",
          "name": "stdout",
          "text": [
            "Model: \"complete_model_7\"\n",
            "_________________________________________________________________\n",
            " Layer (type)                Output Shape              Param #   \n",
            "=================================================================\n",
            " my_layer_22 (My_layer)      multiple                  64064     \n",
            "                                                                 \n",
            " mydropout_14 (mydropout)    multiple                  0         \n",
            "                                                                 \n",
            " my_layer_23 (My_layer)      multiple                  4160      \n",
            "                                                                 \n",
            " mydropout_15 (mydropout)    multiple                  0         \n",
            "                                                                 \n",
            " my_layer_24 (My_layer)      multiple                  0 (unused)\n",
            "                                                                 \n",
            " softmax_8 (Softmax)         multiple                  0         \n",
            "                                                                 \n",
            "=================================================================\n",
            "Total params: 71,214\n",
            "Trainable params: 71,214\n",
            "Non-trainable params: 0\n",
            "_________________________________________________________________\n"
          ]
        }
      ]
    },
    {
      "cell_type": "code",
      "source": [
        ""
      ],
      "metadata": {
        "id": "u5QBR3fuoR9q"
      },
      "execution_count": null,
      "outputs": []
    }
  ]
}