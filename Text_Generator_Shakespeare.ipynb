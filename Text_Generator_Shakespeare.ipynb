{
  "nbformat": 4,
  "nbformat_minor": 0,
  "metadata": {
    "colab": {
      "name": "Text Generator - Shakespeare",
      "provenance": [],
      "machine_shape": "hm",
      "authorship_tag": "ABX9TyNDjUfWIPmOO8IYF51frjxN",
      "include_colab_link": true
    },
    "kernelspec": {
      "name": "python3",
      "display_name": "Python 3"
    },
    "language_info": {
      "name": "python"
    },
    "accelerator": "GPU"
  },
  "cells": [
    {
      "cell_type": "markdown",
      "metadata": {
        "id": "view-in-github",
        "colab_type": "text"
      },
      "source": [
        "<a href=\"https://colab.research.google.com/github/Satyake/Getting-Started-with-TF2/blob/main/Text_Generator_Shakespeare.ipynb\" target=\"_parent\"><img src=\"https://colab.research.google.com/assets/colab-badge.svg\" alt=\"Open In Colab\"/></a>"
      ]
    },
    {
      "cell_type": "code",
      "execution_count": null,
      "metadata": {
        "id": "z0e608-Ao-Qw"
      },
      "outputs": [],
      "source": [
        "def read_file(filepath):\n",
        "  with open(filepath) as f:\n",
        "    text=f.read()\n",
        "    text=text[:100000]\n",
        "  return text"
      ]
    },
    {
      "cell_type": "code",
      "source": [
        "import spacy \n",
        "nlp=spacy.load('en')"
      ],
      "metadata": {
        "id": "WBEibDeHXWUX"
      },
      "execution_count": null,
      "outputs": []
    },
    {
      "cell_type": "code",
      "source": [
        "def seperate(doc):\n",
        "  return [ token.text for token in nlp(doc) if token.text not in '\\n\\n \\n\\n\\n!\".#$<-@?~{}']"
      ],
      "metadata": {
        "id": "kMyvZgxwXaor"
      },
      "execution_count": null,
      "outputs": []
    },
    {
      "cell_type": "code",
      "source": [
        "directory=read_file('/content/Shakespeare.txt')"
      ],
      "metadata": {
        "id": "alky8EArXpzA"
      },
      "execution_count": null,
      "outputs": []
    },
    {
      "cell_type": "code",
      "source": [
        "words=seperate(directory)"
      ],
      "metadata": {
        "id": "8QdV2Q2CXuWs"
      },
      "execution_count": null,
      "outputs": []
    },
    {
      "cell_type": "code",
      "source": [
        "len(words)"
      ],
      "metadata": {
        "colab": {
          "base_uri": "https://localhost:8080/"
        },
        "id": "yVhvC4F4ZiUK",
        "outputId": "f52d29ee-7451-44a9-ed37-cafc24e567a2"
      },
      "execution_count": null,
      "outputs": [
        {
          "output_type": "execute_result",
          "data": {
            "text/plain": [
              "21369"
            ]
          },
          "metadata": {},
          "execution_count": 12
        }
      ]
    },
    {
      "cell_type": "code",
      "source": [
        "#network to predict next word using 26 words"
      ],
      "metadata": {
        "id": "eIOfojOJYAwh"
      },
      "execution_count": null,
      "outputs": []
    },
    {
      "cell_type": "code",
      "source": [
        "train_len=30\n",
        "text_sequences=[]\n",
        "for i in range(train_len,len(words)):\n",
        "  seq=words[i-train_len:i]\n",
        "  text_sequences.append(seq)\n"
      ],
      "metadata": {
        "id": "sgm9s2X9X-bc"
      },
      "execution_count": null,
      "outputs": []
    },
    {
      "cell_type": "code",
      "source": [
        "' '.join(text_sequences[0])"
      ],
      "metadata": {
        "colab": {
          "base_uri": "https://localhost:8080/",
          "height": 53
        },
        "id": "F8OGQrB8ZQ4X",
        "outputId": "04ca0460-7841-4651-8f51-48154518492e"
      },
      "execution_count": null,
      "outputs": [
        {
          "output_type": "execute_result",
          "data": {
            "application/vnd.google.colaboratory.intrinsic+json": {
              "type": "string"
            },
            "text/plain": [
              "'First Citizen : Before we proceed any further , hear me speak All : Speak , speak First Citizen : You are all resolved rather to die than to famish'"
            ]
          },
          "metadata": {},
          "execution_count": 14
        }
      ]
    },
    {
      "cell_type": "code",
      "source": [
        "from keras.preprocessing.text import Tokenizer"
      ],
      "metadata": {
        "id": "VnZgFu3GZxsd"
      },
      "execution_count": null,
      "outputs": []
    },
    {
      "cell_type": "code",
      "source": [
        "tknizer=Tokenizer()\n",
        "tknizer.fit_on_texts(text_sequences) \n",
        "sequences=tknizer.texts_to_sequences(text_sequences)                                                                                                                                                                                                                                                                                                                                                                                                                                                                                                                                                                                                                                                                                                                                                                                              "
      ],
      "metadata": {
        "id": "O5IEtCNqZ1nz"
      },
      "execution_count": null,
      "outputs": []
    },
    {
      "cell_type": "code",
      "source": [
        "tknizer.index_word"
      ],
      "metadata": {
        "id": "_vkkl-9KaP9T"
      },
      "execution_count": null,
      "outputs": []
    },
    {
      "cell_type": "code",
      "source": [
        "#tknizer.word_counts\n",
        "vocabulary_size=len(tknizer.word_counts)"
      ],
      "metadata": {
        "id": "3mPgqCXycCXE"
      },
      "execution_count": null,
      "outputs": []
    },
    {
      "cell_type": "code",
      "source": [
        "vocabulary_size"
      ],
      "metadata": {
        "colab": {
          "base_uri": "https://localhost:8080/"
        },
        "id": "SlN_ycQTcJyy",
        "outputId": "fdc1777a-29a6-45c6-b1b1-7ee2d9b8442a"
      },
      "execution_count": null,
      "outputs": [
        {
          "output_type": "execute_result",
          "data": {
            "text/plain": [
              "3061"
            ]
          },
          "metadata": {},
          "execution_count": 19
        }
      ]
    },
    {
      "cell_type": "code",
      "source": [
        "import numpy as np \n",
        "import keras\n",
        "import tensorflow as tf\n",
        "sequences=np.array(sequences)"
      ],
      "metadata": {
        "id": "e31wnR5YcMNh"
      },
      "execution_count": null,
      "outputs": []
    },
    {
      "cell_type": "code",
      "source": [
        "sequences.shape\n",
        "x=sequences[:,:-1]\n",
        "y=sequences[:,-1]"
      ],
      "metadata": {
        "id": "2JQ_5r9ucVsq"
      },
      "execution_count": null,
      "outputs": []
    },
    {
      "cell_type": "code",
      "source": [
        "y.shape"
      ],
      "metadata": {
        "colab": {
          "base_uri": "https://localhost:8080/"
        },
        "id": "rcP7pjfxcgmW",
        "outputId": "5ae834d8-e84d-4329-e5aa-b2d4fd0802d0"
      },
      "execution_count": null,
      "outputs": [
        {
          "output_type": "execute_result",
          "data": {
            "text/plain": [
              "(21339,)"
            ]
          },
          "metadata": {},
          "execution_count": 22
        }
      ]
    },
    {
      "cell_type": "code",
      "source": [
        "x.shape"
      ],
      "metadata": {
        "colab": {
          "base_uri": "https://localhost:8080/"
        },
        "id": "bwESiG4KdG_s",
        "outputId": "59cc02d3-ce9b-4702-86c2-250ff64a1b78"
      },
      "execution_count": null,
      "outputs": [
        {
          "output_type": "execute_result",
          "data": {
            "text/plain": [
              "(21339, 29)"
            ]
          },
          "metadata": {},
          "execution_count": 23
        }
      ]
    },
    {
      "cell_type": "code",
      "source": [
        "seq_length=x.shape[0]\n",
        "seq_length"
      ],
      "metadata": {
        "colab": {
          "base_uri": "https://localhost:8080/"
        },
        "id": "9VmZBDamiYTx",
        "outputId": "e4784b0f-7eaa-47d5-c49a-663754bf5a1c"
      },
      "execution_count": null,
      "outputs": [
        {
          "output_type": "execute_result",
          "data": {
            "text/plain": [
              "21339"
            ]
          },
          "metadata": {},
          "execution_count": 24
        }
      ]
    },
    {
      "cell_type": "code",
      "source": [
        "y=tf.keras.utils.to_categorical(y,num_classes=vocabulary_size+1)"
      ],
      "metadata": {
        "id": "lpsRswTxcjST"
      },
      "execution_count": null,
      "outputs": []
    },
    {
      "cell_type": "code",
      "source": [
        "y.shape"
      ],
      "metadata": {
        "colab": {
          "base_uri": "https://localhost:8080/"
        },
        "id": "A9o4RYbAdAml",
        "outputId": "f179781f-b580-40bc-82b0-3abe224ee0bf"
      },
      "execution_count": null,
      "outputs": [
        {
          "output_type": "execute_result",
          "data": {
            "text/plain": [
              "(21339, 3062)"
            ]
          },
          "metadata": {},
          "execution_count": 26
        }
      ]
    },
    {
      "cell_type": "code",
      "source": [
        "vocabulary_size"
      ],
      "metadata": {
        "colab": {
          "base_uri": "https://localhost:8080/"
        },
        "id": "tNE-hREOhJ0u",
        "outputId": "8907925e-3cb3-4bda-de19-157e30dcfa87"
      },
      "execution_count": null,
      "outputs": [
        {
          "output_type": "execute_result",
          "data": {
            "text/plain": [
              "3061"
            ]
          },
          "metadata": {},
          "execution_count": 27
        }
      ]
    },
    {
      "cell_type": "code",
      "source": [
        "seq_length=x.shape[1]"
      ],
      "metadata": {
        "id": "qqBU9K-idCbR"
      },
      "execution_count": null,
      "outputs": []
    },
    {
      "cell_type": "code",
      "source": [
        "seq_length"
      ],
      "metadata": {
        "colab": {
          "base_uri": "https://localhost:8080/"
        },
        "id": "orfrTX9Hl6en",
        "outputId": "5d5f3c5a-3e99-439e-b97c-86a3fd2048ac"
      },
      "execution_count": null,
      "outputs": [
        {
          "output_type": "execute_result",
          "data": {
            "text/plain": [
              "29"
            ]
          },
          "metadata": {},
          "execution_count": 68
        }
      ]
    },
    {
      "cell_type": "code",
      "source": [
        "from keras.models import Sequential\n",
        "\n",
        "from keras.layers import Dense,LSTM,Embedding,Dropout,Bidirectional\n",
        "import tensorflow as tf"
      ],
      "metadata": {
        "id": "zX7K-dnTmWIh"
      },
      "execution_count": null,
      "outputs": []
    },
    {
      "cell_type": "code",
      "source": [
        "def model1():\n",
        " model=tf.keras.models.Sequential()\n",
        " model.add(tf.keras.layers.Embedding(vocabulary_size+1,32,input_length=seq_length))\n",
        " model.add(tf.keras.layers.LSTM(50,return_sequences=True))\n",
        " model.add(tf.keras.layers.LSTM(10,return_sequences=False))\n",
        " model.add(tf.keras.layers.Dense(vocabulary_size+1,activation='softmax'))\n",
        " model.compile(loss='categorical_crossentropy',metrics=['accuracy'],optimizer='adam')\n",
        " return model"
      ],
      "metadata": {
        "id": "8AzBzmmggl02"
      },
      "execution_count": null,
      "outputs": []
    },
    {
      "cell_type": "code",
      "source": [
        "model=model1()"
      ],
      "metadata": {
        "id": "JqhnCzAkiD21"
      },
      "execution_count": null,
      "outputs": []
    },
    {
      "cell_type": "code",
      "source": [
        "tknizer.word_index"
      ],
      "metadata": {
        "id": "I0LW054guRja"
      },
      "execution_count": null,
      "outputs": []
    },
    {
      "cell_type": "code",
      "source": [
        "history=model.fit(x,y,epochs=150,batch_size=128)"
      ],
      "metadata": {
        "id": "guplQzg3iGBS"
      },
      "execution_count": null,
      "outputs": []
    },
    {
      "cell_type": "code",
      "source": [
        "model.predict(x)[0]"
      ],
      "metadata": {
        "colab": {
          "base_uri": "https://localhost:8080/"
        },
        "id": "V5TjDJkqF_zW",
        "outputId": "6f28db40-1b64-409a-ff66-94cf4aabf8f5"
      },
      "execution_count": 213,
      "outputs": [
        {
          "output_type": "execute_result",
          "data": {
            "text/plain": [
              "array([5.0164374e-14, 4.6653865e-13, 1.9111874e-12, ..., 4.8883879e-13,\n",
              "       2.2235707e-09, 2.3891425e-11], dtype=float32)"
            ]
          },
          "metadata": {},
          "execution_count": 213
        }
      ]
    },
    {
      "cell_type": "code",
      "source": [
        "def generate_text(model,tknizer,seed_text,num_gen_words, seq_len):\n",
        "  output_text=[]\n",
        "  for i in range(num_gen_words):\n",
        "    encoded_text=tknizer.texts_to_sequences(seed_text)[0]\n",
        "    padded=tf.keras.preprocessing.sequence.pad_sequences([encoded_text],maxlen=seq_len)\n",
        "    predict_index=model.predict(padded)[0]\n",
        "    predict_index=np.argmax(predict_index)\n",
        "    predicted_word=tknizer.index_word[predict_index]\n",
        "    seed_text+=' ' + predicted_word\n",
        "    output_text.append(predicted_word)\n",
        "  return ' '.join(output_text)\n",
        "\n",
        "\n",
        "text='and throwing the clothes to one side he really did this'\n",
        "\n",
        "generate_text(model,tknizer,text,2,30)\n"
      ],
      "metadata": {
        "id": "5r4UPHk8CILe",
        "colab": {
          "base_uri": "https://localhost:8080/",
          "height": 36
        },
        "outputId": "1b5ac87f-9bde-4843-aa4d-f680f42e0874"
      },
      "execution_count": 232,
      "outputs": [
        {
          "output_type": "execute_result",
          "data": {
            "application/vnd.google.colaboratory.intrinsic+json": {
              "type": "string"
            },
            "text/plain": [
              "'pleasing pleasing'"
            ]
          },
          "metadata": {},
          "execution_count": 232
        }
      ]
    },
    {
      "cell_type": "code",
      "source": [
        ""
      ],
      "metadata": {
        "id": "TFJHHGft_DwX"
      },
      "execution_count": 217,
      "outputs": []
    },
    {
      "cell_type": "code",
      "source": [
        ""
      ],
      "metadata": {
        "id": "jzteTN-tq9Ww"
      },
      "execution_count": null,
      "outputs": []
    },
    {
      "cell_type": "code",
      "source": [
        "def generate_text(model,tokenizer,seq_len,seed_text,num_gen_words):\n",
        "  output_text=[]\n",
        "  input_text=seed_text \n",
        "  for i in range(num_gen_words):\n",
        "    encoded_text=tknizer.texts_to_sequences([input_text])[0]\n",
        "    pred_word_ind=model.predict(encoded_text)[0]\n",
        "    pred_word_ind=np.argmax(pred_word_ind)\n",
        "    pred_word=tokenizer.index_word[pred_word_ind]\n",
        "    input_text+=' ' + pred_word\n",
        "    output_text.append(pred_word)\n",
        "\n",
        "  return ' '.join()\n",
        "    "
      ],
      "metadata": {
        "id": "szlA-a5AIr-P"
      },
      "execution_count": null,
      "outputs": []
    },
    {
      "cell_type": "code",
      "source": [
        "text='and throwing the clothes to one side he really did this'\n"
      ],
      "metadata": {
        "id": "5XaxBfQS--rg"
      },
      "execution_count": 225,
      "outputs": []
    },
    {
      "cell_type": "code",
      "source": [
        "generate_text(model,tknizer,29,text,25)"
      ],
      "metadata": {
        "id": "4vZbExGWBFwF",
        "colab": {
          "base_uri": "https://localhost:8080/",
          "height": 294
        },
        "outputId": "af7239eb-3e36-440d-f98d-dd85411b095d"
      },
      "execution_count": 226,
      "outputs": [
        {
          "output_type": "error",
          "ename": "TypeError",
          "evalue": "ignored",
          "traceback": [
            "\u001b[0;31m---------------------------------------------------------------------------\u001b[0m",
            "\u001b[0;31mTypeError\u001b[0m                                 Traceback (most recent call last)",
            "\u001b[0;32m<ipython-input-226-b50b1773bc85>\u001b[0m in \u001b[0;36m<module>\u001b[0;34m()\u001b[0m\n\u001b[0;32m----> 1\u001b[0;31m \u001b[0mgenerate_text\u001b[0m\u001b[0;34m(\u001b[0m\u001b[0mmodel\u001b[0m\u001b[0;34m,\u001b[0m\u001b[0mtknizer\u001b[0m\u001b[0;34m,\u001b[0m\u001b[0;36m29\u001b[0m\u001b[0;34m,\u001b[0m\u001b[0mtext\u001b[0m\u001b[0;34m,\u001b[0m\u001b[0;36m25\u001b[0m\u001b[0;34m)\u001b[0m\u001b[0;34m\u001b[0m\u001b[0;34m\u001b[0m\u001b[0m\n\u001b[0m",
            "\u001b[0;32m<ipython-input-224-c16d9a65ab40>\u001b[0m in \u001b[0;36mgenerate_text\u001b[0;34m(model, tknizer, seed_text, num_gen_words, seq_len)\u001b[0m\n\u001b[1;32m      1\u001b[0m \u001b[0;32mdef\u001b[0m \u001b[0mgenerate_text\u001b[0m\u001b[0;34m(\u001b[0m\u001b[0mmodel\u001b[0m\u001b[0;34m,\u001b[0m\u001b[0mtknizer\u001b[0m\u001b[0;34m,\u001b[0m\u001b[0mseed_text\u001b[0m\u001b[0;34m,\u001b[0m\u001b[0mnum_gen_words\u001b[0m\u001b[0;34m,\u001b[0m \u001b[0mseq_len\u001b[0m\u001b[0;34m)\u001b[0m\u001b[0;34m:\u001b[0m\u001b[0;34m\u001b[0m\u001b[0;34m\u001b[0m\u001b[0m\n\u001b[1;32m      2\u001b[0m   \u001b[0moutput_text\u001b[0m\u001b[0;34m=\u001b[0m\u001b[0;34m[\u001b[0m\u001b[0;34m]\u001b[0m\u001b[0;34m\u001b[0m\u001b[0;34m\u001b[0m\u001b[0m\n\u001b[0;32m----> 3\u001b[0;31m   \u001b[0;32mfor\u001b[0m \u001b[0mi\u001b[0m \u001b[0;32min\u001b[0m \u001b[0mrange\u001b[0m\u001b[0;34m(\u001b[0m\u001b[0mnum_gen_words\u001b[0m\u001b[0;34m)\u001b[0m\u001b[0;34m:\u001b[0m\u001b[0;34m\u001b[0m\u001b[0;34m\u001b[0m\u001b[0m\n\u001b[0m\u001b[1;32m      4\u001b[0m     \u001b[0mencoded_text\u001b[0m\u001b[0;34m=\u001b[0m\u001b[0mtknizer\u001b[0m\u001b[0;34m.\u001b[0m\u001b[0mtexts_to_sequences\u001b[0m\u001b[0;34m(\u001b[0m\u001b[0mseed_text\u001b[0m\u001b[0;34m)\u001b[0m\u001b[0;34m[\u001b[0m\u001b[0;36m0\u001b[0m\u001b[0;34m]\u001b[0m\u001b[0;34m\u001b[0m\u001b[0;34m\u001b[0m\u001b[0m\n\u001b[1;32m      5\u001b[0m     \u001b[0mpadded\u001b[0m\u001b[0;34m=\u001b[0m\u001b[0mtf\u001b[0m\u001b[0;34m.\u001b[0m\u001b[0mkeras\u001b[0m\u001b[0;34m.\u001b[0m\u001b[0mpreprocessing\u001b[0m\u001b[0;34m.\u001b[0m\u001b[0msequence\u001b[0m\u001b[0;34m.\u001b[0m\u001b[0mpadded_sequences\u001b[0m\u001b[0;34m(\u001b[0m\u001b[0;34m[\u001b[0m\u001b[0mencoded_text\u001b[0m\u001b[0;34m]\u001b[0m\u001b[0;34m,\u001b[0m\u001b[0mmaxlen\u001b[0m\u001b[0;34m=\u001b[0m\u001b[0mseq_len\u001b[0m\u001b[0;34m)\u001b[0m\u001b[0;34m\u001b[0m\u001b[0;34m\u001b[0m\u001b[0m\n",
            "\u001b[0;31mTypeError\u001b[0m: 'str' object cannot be interpreted as an integer"
          ]
        }
      ]
    }
  ]
}