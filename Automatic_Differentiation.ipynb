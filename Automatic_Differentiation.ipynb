{
  "nbformat": 4,
  "nbformat_minor": 0,
  "metadata": {
    "colab": {
      "name": "Automatic Differentiation",
      "provenance": [],
      "authorship_tag": "ABX9TyM8CdPmbC6JESUyTO7Eo/bZ",
      "include_colab_link": true
    },
    "kernelspec": {
      "name": "python3",
      "display_name": "Python 3"
    },
    "language_info": {
      "name": "python"
    }
  },
  "cells": [
    {
      "cell_type": "markdown",
      "metadata": {
        "id": "view-in-github",
        "colab_type": "text"
      },
      "source": [
        "<a href=\"https://colab.research.google.com/github/Satyake/Getting-Started-with-TF2/blob/main/Automatic_Differentiation.ipynb\" target=\"_parent\"><img src=\"https://colab.research.google.com/assets/colab-badge.svg\" alt=\"Open In Colab\"/></a>"
      ]
    },
    {
      "cell_type": "code",
      "execution_count": 2,
      "metadata": {
        "id": "WMZ3CjbJ0SZx"
      },
      "outputs": [],
      "source": [
        "import numpy as np \n",
        "import matplotlib.pyplot as plt\n",
        "import tensorflow as tf"
      ]
    },
    {
      "cell_type": "code",
      "source": [
        "def MakeNoisyData(m,b,n=20):\n",
        "  x=tf.random.uniform(shape=(n,))\n",
        "  noise=tf.random.normal(shape=(len(x),),stddev=0.1)\n",
        "  y=m*x+b+noise\n",
        "  return x,y"
      ],
      "metadata": {
        "id": "8V7aiwec0dIW"
      },
      "execution_count": 3,
      "outputs": []
    },
    {
      "cell_type": "code",
      "source": [
        "m=1\n",
        "b=2\n",
        "x_train,y_train=MakeNoisyData(m,b)\n",
        "plt.plot(x_train,y_train,'b.')"
      ],
      "metadata": {
        "colab": {
          "base_uri": "https://localhost:8080/",
          "height": 282
        },
        "id": "eRPnpO940yRY",
        "outputId": "e08e2996-e50a-4c38-923a-a1217ac490d2"
      },
      "execution_count": 4,
      "outputs": [
        {
          "output_type": "execute_result",
          "data": {
            "text/plain": [
              "[<matplotlib.lines.Line2D at 0x7f82d1a5d890>]"
            ]
          },
          "metadata": {},
          "execution_count": 4
        },
        {
          "output_type": "display_data",
          "data": {
            "text/plain": [
              "<Figure size 432x288 with 1 Axes>"
            ],
            "image/png": "[encoded data removed]"
          },
          "metadata": {
            "needs_background": "light"
          }
        }
      ]
    },
    {
      "cell_type": "code",
      "source": [
        "from tensorflow.keras.layers import Layer"
      ],
      "metadata": {
        "id": "ocgsPlxI1Mvj"
      },
      "execution_count": 5,
      "outputs": []
    },
    {
      "cell_type": "code",
      "source": [
        "#Define Linear Reg Layer (Layer Subclassing)\n",
        "class LinearReg(Layer):\n",
        "  def __init__(self):\n",
        "    super(LinearReg,self).__init__()\n",
        "    self.w=self.add_weight(shape=(1,), trainable=True,initializer='random_normal')\n",
        "    self.b=self.add_weight(shape=(1,),trainable=True,initializer='zeros')\n",
        "\n",
        "  def call(self,inputs):\n",
        "    return self.w*inputs+self.b\n",
        "\n"
      ],
      "metadata": {
        "id": "sYszT_cK1SdX"
      },
      "execution_count": 9,
      "outputs": []
    },
    {
      "cell_type": "code",
      "source": [
        "linear_regression=LinearReg()\n",
        "print(linear_regression(x_train))"
      ],
      "metadata": {
        "colab": {
          "base_uri": "https://localhost:8080/"
        },
        "id": "UObOUV5-Fery",
        "outputId": "93ccd93b-df0e-4cd8-bb2b-2133b2c040d2"
      },
      "execution_count": 12,
      "outputs": [
        {
          "output_type": "stream",
          "name": "stdout",
          "text": [
            "tf.Tensor(\n",
            "[-0.00058251 -0.00060543 -0.00066349 -0.00059301 -0.0005713  -0.00019103\n",
            " -0.00070383 -0.00039574 -0.00070717 -0.00017584 -0.00058859 -0.0006664\n",
            " -0.00016873 -0.00015023 -0.00025679 -0.00058319 -0.00033506 -0.00062167\n",
            " -0.00028685 -0.00061688], shape=(20,), dtype=float32)\n"
          ]
        }
      ]
    },
    {
      "cell_type": "code",
      "source": [
        "print(linear_regression.weights)"
      ],
      "metadata": {
        "colab": {
          "base_uri": "https://localhost:8080/"
        },
        "id": "NyMs7aRiF6EL",
        "outputId": "2266b1c6-c056-4286-a74d-fb7e2904f340"
      },
      "execution_count": 13,
      "outputs": [
        {
          "output_type": "stream",
          "name": "stdout",
          "text": [
            "[<tf.Variable 'Variable:0' shape=(1,) dtype=float32, numpy=array([-0.00071591], dtype=float32)>, <tf.Variable 'Variable:0' shape=(1,) dtype=float32, numpy=array([0.], dtype=float32)>]\n"
          ]
        }
      ]
    },
    {
      "cell_type": "code",
      "source": [
        "def squarred_error(y_true,y_pred):\n",
        "  z=tf.reduce_mean(tf.square(y_true-y_pred))\n",
        "  return z"
      ],
      "metadata": {
        "id": "fteEYC9bF-qz"
      },
      "execution_count": 14,
      "outputs": []
    },
    {
      "cell_type": "code",
      "source": [
        "starting_loss=squarred_error(linear_regression(x_train),y_train)"
      ],
      "metadata": {
        "id": "WsuPFouCJukQ"
      },
      "execution_count": 16,
      "outputs": []
    },
    {
      "cell_type": "code",
      "source": [
        "starting_loss"
      ],
      "metadata": {
        "colab": {
          "base_uri": "https://localhost:8080/"
        },
        "id": "K2nNR0G1J7D7",
        "outputId": "e1808d70-f56a-4561-d5f6-7509244aa7b3"
      },
      "execution_count": 17,
      "outputs": [
        {
          "output_type": "execute_result",
          "data": {
            "text/plain": [
              "<tf.Tensor: shape=(), dtype=float32, numpy=7.1623716>"
            ]
          },
          "metadata": {},
          "execution_count": 17
        }
      ]
    },
    {
      "cell_type": "code",
      "source": [
        "lr=0.05\n",
        "steps=25\n",
        "for i in range(steps):\n",
        "  with tf.GradientTape() as tape:\n",
        "    predictions=linear_regression(x_train)\n",
        "    loss=squarred_error(predictions,y_train)\n",
        "  gradients=tape.gradient(loss,linear_regression.trainable_variables)\n",
        "  linear_regression.w.assign_sub(lr*gradients[0])\n",
        "  linear_regression.b.assign_sub(lr*gradients[1])\n",
        "  print(\"steps {} and loss{}\".format(i,loss))\n"
      ],
      "metadata": {
        "colab": {
          "base_uri": "https://localhost:8080/"
        },
        "id": "Jms3L-HxwFI1",
        "outputId": "7f45e813-4fc6-46d7-b102-6428770e5e16"
      },
      "execution_count": 23,
      "outputs": [
        {
          "output_type": "stream",
          "name": "stdout",
          "text": [
            "steps 0 and loss4.321393013000488\n",
            "steps 1 and loss3.1580395698547363\n",
            "steps 2 and loss2.3096728324890137\n",
            "steps 3 and loss1.6909936666488647\n",
            "steps 4 and loss1.2398027181625366\n",
            "steps 5 and loss0.9107441902160645\n",
            "steps 6 and loss0.6707448363304138\n",
            "steps 7 and loss0.4956877827644348\n",
            "steps 8 and loss0.36798685789108276\n",
            "steps 9 and loss0.274818480014801\n",
            "steps 10 and loss0.2068316638469696\n",
            "steps 11 and loss0.15720775723457336\n",
            "steps 12 and loss0.12097440659999847\n",
            "steps 13 and loss0.09450587630271912\n",
            "steps 14 and loss0.07515840232372284\n",
            "steps 15 and loss0.06100403144955635\n",
            "steps 16 and loss0.05063697695732117\n",
            "steps 17 and loss0.04303204268217087\n",
            "steps 18 and loss0.037441693246364594\n",
            "steps 19 and loss0.03332090005278587\n",
            "steps 20 and loss0.030272116884589195\n",
            "steps 21 and loss0.02800549566745758\n",
            "steps 22 and loss0.026309698820114136\n",
            "steps 23 and loss0.025030553340911865\n",
            "steps 24 and loss0.02405569516122341\n"
          ]
        }
      ]
    }
  ]
}