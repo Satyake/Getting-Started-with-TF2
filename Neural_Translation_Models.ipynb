{
  "cells": [
    {
      "cell_type": "markdown",
      "metadata": {
        "id": "view-in-github",
        "colab_type": "text"
      },
      "source": [
        "<a href=\"https://colab.research.google.com/github/Satyake/Getting-Started-with-TF2/blob/main/Neural_Translation_Models.ipynb\" target=\"_parent\"><img src=\"https://colab.research.google.com/assets/colab-badge.svg\" alt=\"Open In Colab\"/></a>"
      ]
    },
    {
      "cell_type": "code",
      "execution_count": null,
      "metadata": {
        "id": "F8Y8N5c4Sfi4"
      },
      "outputs": [],
      "source": [
        "import string\n",
        "import tensorflow as tf\n",
        "import numpy as np "
      ]
    },
    {
      "cell_type": "code",
      "execution_count": null,
      "metadata": {
        "id": "25YoDsutbLyX"
      },
      "outputs": [],
      "source": [
        "data_path='/content/eng-fra.txt'"
      ]
    },
    {
      "cell_type": "code",
      "execution_count": null,
      "metadata": {
        "id": "TU6KAkLGqvPy"
      },
      "outputs": [],
      "source": [
        "with open(data_path,'r',encoding='utf-8') as f:\n",
        "  lines=f.read()\n",
        "#lines"
      ]
    },
    {
      "cell_type": "code",
      "execution_count": null,
      "metadata": {
        "id": "MjcJNEstq_-o"
      },
      "outputs": [],
      "source": [
        "#function to remove the spacings and tabs\n",
        "def to_lines(text):\n",
        "  sents=text.strip().split('\\n')\n",
        "  sents=[i.split('\\t') for i in sents] \n",
        "  return sents"
      ]
    },
    {
      "cell_type": "code",
      "execution_count": null,
      "metadata": {
        "id": "oOAovJberhSU"
      },
      "outputs": [],
      "source": [
        "fra_eng=to_lines(lines)\n",
        "#fra_eng"
      ]
    },
    {
      "cell_type": "code",
      "execution_count": null,
      "metadata": {
        "id": "7YeNW9gArvRe"
      },
      "outputs": [],
      "source": [
        "fra_eng=np.array(fra_eng)"
      ]
    },
    {
      "cell_type": "code",
      "execution_count": null,
      "metadata": {
        "colab": {
          "base_uri": "https://localhost:8080/"
        },
        "id": "3GaCEkTpsDZx",
        "outputId": "0ddb0e29-1be9-4c69-defe-213216f3160c"
      },
      "outputs": [
        {
          "output_type": "execute_result",
          "data": {
            "text/plain": [
              "array([['English', 'French'],\n",
              "       ['Go.', 'Va !'],\n",
              "       ['Run!', 'Cours\\u202f!'],\n",
              "       ['Run!', 'Courez\\u202f!'],\n",
              "       ['Wow!', 'Ça alors\\u202f!']], dtype='<U349')"
            ]
          },
          "metadata": {},
          "execution_count": 7
        }
      ],
      "source": [
        "fra_eng[:5]"
      ]
    },
    {
      "cell_type": "code",
      "execution_count": null,
      "metadata": {
        "id": "8wydCy2Ex3JS"
      },
      "outputs": [],
      "source": [
        ""
      ]
    },
    {
      "cell_type": "code",
      "execution_count": null,
      "metadata": {
        "colab": {
          "base_uri": "https://localhost:8080/"
        },
        "id": "emH3rzjjsAPr",
        "outputId": "0d516ef0-3420-4c83-ef47-ac1ba8d663bf"
      },
      "outputs": [
        {
          "output_type": "execute_result",
          "data": {
            "text/plain": [
              "(135843, 2)"
            ]
          },
          "metadata": {},
          "execution_count": 8
        }
      ],
      "source": [
        "fra_eng.shape"
      ]
    },
    {
      "cell_type": "code",
      "execution_count": null,
      "metadata": {
        "id": "_MD-A3zesHI0"
      },
      "outputs": [],
      "source": [
        "fra_eng=fra_eng[:9000]"
      ]
    },
    {
      "cell_type": "code",
      "execution_count": null,
      "metadata": {
        "colab": {
          "base_uri": "https://localhost:8080/"
        },
        "id": "kkeAsPi6r4WR",
        "outputId": "b6959eee-05a9-4b36-cdfb-365d79392839"
      },
      "outputs": [
        {
          "output_type": "execute_result",
          "data": {
            "text/plain": [
              "(9000, 2)"
            ]
          },
          "metadata": {},
          "execution_count": 10
        }
      ],
      "source": [
        "fra_eng.shape"
      ]
    },
    {
      "cell_type": "code",
      "execution_count": null,
      "metadata": {
        "id": "wBBYxT5Lx34D"
      },
      "outputs": [],
      "source": [
        "cleaned_english=[]\n",
        "for j in range(0,9000):\n",
        "  cleaned_english.append(''.join([i for i in fra_eng[:,0][j] if i not in ',!.']))\n",
        "\n",
        "cleaned_french=[]\n",
        "for j in range(0,9000):\n",
        "  cleaned_french.append(''.join([i for i in fra_eng[:,1][j] if i not in ',!.']))\n",
        "\n"
      ]
    },
    {
      "cell_type": "code",
      "execution_count": null,
      "metadata": {
        "id": "5e0qu8xDsRz5"
      },
      "outputs": [],
      "source": [
        "cleaned_english=np.array(cleaned_english)\n",
        "cleaned_french=np.array(cleaned_french)"
      ]
    },
    {
      "cell_type": "code",
      "execution_count": null,
      "metadata": {
        "id": "NlUtBci-3UhR",
        "colab": {
          "base_uri": "https://localhost:8080/"
        },
        "outputId": "d45fe17f-ada8-49ee-d5fa-a9c5a25e4f70"
      },
      "outputs": [
        {
          "output_type": "execute_result",
          "data": {
            "text/plain": [
              "(9000,)"
            ]
          },
          "metadata": {},
          "execution_count": 13
        }
      ],
      "source": [
        "cleaned_french.shape"
      ]
    },
    {
      "cell_type": "code",
      "source": [
        "cleaned_french.shape"
      ],
      "metadata": {
        "id": "-X9lqvlm0j4_",
        "colab": {
          "base_uri": "https://localhost:8080/"
        },
        "outputId": "6ea69600-460c-4041-d013-303ba85d693d"
      },
      "execution_count": null,
      "outputs": [
        {
          "output_type": "execute_result",
          "data": {
            "text/plain": [
              "(9000,)"
            ]
          },
          "metadata": {},
          "execution_count": 14
        }
      ]
    },
    {
      "cell_type": "code",
      "source": [
        "import pandas as pd\n",
        "df1=pd.DataFrame(cleaned_english)\n",
        "df2=pd.DataFrame(cleaned_french)"
      ],
      "metadata": {
        "id": "pp7OLAx71mQd"
      },
      "execution_count": null,
      "outputs": []
    },
    {
      "cell_type": "code",
      "source": [
        "eng_fra_cleaned=pd.concat([df1,df2],axis=1)"
      ],
      "metadata": {
        "id": "hM0EmAEH2NJA"
      },
      "execution_count": null,
      "outputs": []
    },
    {
      "cell_type": "code",
      "source": [
        "new_header = eng_fra_cleaned.iloc[0] #grab the first row for the header\n",
        "df = eng_fra_cleaned[1:] #take the data less the header row\n",
        "df.columns = new_header"
      ],
      "metadata": {
        "id": "T_EL1IFP2vK7"
      },
      "execution_count": null,
      "outputs": []
    },
    {
      "cell_type": "code",
      "source": [
        ""
      ],
      "metadata": {
        "id": "qrot6Nrg5n1o"
      },
      "execution_count": null,
      "outputs": []
    },
    {
      "cell_type": "code",
      "execution_count": null,
      "metadata": {
        "id": "Jg-d7EVP1Jwa"
      },
      "outputs": [],
      "source": [
        "def tokenization(lines):\n",
        "  tokenizer=tf.keras.preprocessing.text.Tokenizer()\n",
        "  tokenizer.fit_on_texts(lines)\n",
        "  return tokenizer\n",
        "\n",
        "def encode_seq(tokenizer,length,lines):\n",
        "  seq=tokenizer.texts_to_sequences(lines)\n",
        "  seq=tf.keras.preprocessing.sequence.pad_sequences(seq,maxlen=length, padding='post')\n",
        "  return seq"
      ]
    },
    {
      "cell_type": "code",
      "source": [
        "eng_tokenizer=tokenization(df['English'])\n",
        "fra_tokenizer=tokenization(df['French'])"
      ],
      "metadata": {
        "id": "QHHu3sRIDQL5"
      },
      "execution_count": null,
      "outputs": []
    },
    {
      "cell_type": "code",
      "source": [
        ""
      ],
      "metadata": {
        "id": "RZq8gyiFIpGs"
      },
      "execution_count": null,
      "outputs": []
    },
    {
      "cell_type": "code",
      "source": [
        ""
      ],
      "metadata": {
        "id": "kRVwEd8iJet0"
      },
      "execution_count": null,
      "outputs": []
    },
    {
      "cell_type": "code",
      "source": [
        "from sklearn.model_selection import train_test_split\n",
        "train,test=train_test_split(fra_eng,test_size=0.02,random_state=1)"
      ],
      "metadata": {
        "id": "sN9BZXWg6dgw"
      },
      "execution_count": null,
      "outputs": []
    },
    {
      "cell_type": "code",
      "source": [
        "train.shape"
      ],
      "metadata": {
        "colab": {
          "base_uri": "https://localhost:8080/"
        },
        "id": "40iN3yIzD5SR",
        "outputId": "ad39c0f5-d68b-43dd-acd4-b179f1dfa0e8"
      },
      "execution_count": null,
      "outputs": [
        {
          "output_type": "execute_result",
          "data": {
            "text/plain": [
              "(8820, 2)"
            ]
          },
          "metadata": {},
          "execution_count": 21
        }
      ]
    },
    {
      "cell_type": "code",
      "source": [
        "x_train=encode_seq(fra_tokenizer,8,train[:,0])\n",
        "y_train=encode_seq(eng_tokenizer,8,train[:,1])\n",
        "\n",
        "x_test=encode_seq(fra_tokenizer,8,test[:,0])\n",
        "y_test=encode_seq(eng_tokenizer,8,test[:,1])"
      ],
      "metadata": {
        "id": "s8hvS8XYx_C-"
      },
      "execution_count": null,
      "outputs": []
    },
    {
      "cell_type": "code",
      "source": [
        ""
      ],
      "metadata": {
        "id": "FbOpiyAR3Lwe"
      },
      "execution_count": null,
      "outputs": []
    },
    {
      "cell_type": "code",
      "source": [
        "def model1(in_vocab,out_vocab,in_timestep,out_timesteps,units):\n",
        "    model=tf.keras.Sequential()\n",
        "    model.add( tf.keras.layers.Embedding(in_vocab,units,input_length=in_timestep,mask_zero=True))\n",
        "    model.add(tf.keras.layers.LSTM(units))\n",
        "    #model.add(tf.keras.layers.Bidirectional(tf.keras.layers.LSTM(units),merge_mode='mul'))\n",
        "    model.add(tf.keras.layers.RepeatVector(out_timesteps))\n",
        "    model.add(tf.keras.layers.LSTM(units,return_sequences=True))\n",
        "    model.add(tf.keras.layers.Dense(out_vocab,activation='softmax'))\n",
        "  \n",
        "    return model\n",
        "\n",
        "\n"
      ],
      "metadata": {
        "id": "gi78yE-FyMZd"
      },
      "execution_count": null,
      "outputs": []
    },
    {
      "cell_type": "code",
      "source": [
        "eng_length=len(eng_tokenizer.word_index)\n",
        "fra_length=len(fra_tokenizer.word_index)"
      ],
      "metadata": {
        "id": "uXD2WQTBJqYq"
      },
      "execution_count": null,
      "outputs": []
    },
    {
      "cell_type": "code",
      "source": [
        "fra_length"
      ],
      "metadata": {
        "colab": {
          "base_uri": "https://localhost:8080/"
        },
        "id": "gLnpc0FMKNmx",
        "outputId": "c155628a-33ec-408e-c9a3-cfd2f667803f"
      },
      "execution_count": null,
      "outputs": [
        {
          "output_type": "execute_result",
          "data": {
            "text/plain": [
              "4214"
            ]
          },
          "metadata": {},
          "execution_count": 61
        }
      ]
    },
    {
      "cell_type": "code",
      "source": [
        "model=model1(eng_length,fra_length,8,8,512)"
      ],
      "metadata": {
        "id": "ISUAhflcJbIK"
      },
      "execution_count": null,
      "outputs": []
    },
    {
      "cell_type": "code",
      "execution_count": null,
      "metadata": {
        "id": "xlbxoeDx19d4"
      },
      "outputs": [],
      "source": [
        "model.compile(optimizer='adam',loss='sparse_categorical_crossentropy',metrics=['Accuracy'])"
      ]
    },
    {
      "cell_type": "code",
      "execution_count": null,
      "metadata": {
        "id": "ZOqmVbkszsU3",
        "colab": {
          "base_uri": "https://localhost:8080/"
        },
        "outputId": "71f3b0f9-963b-4237-b141-347f27069d47"
      },
      "outputs": [
        {
          "output_type": "stream",
          "name": "stdout",
          "text": [
            "Epoch 1/10\n",
            "276/276 [==============================] - 18s 44ms/step - loss: 1.4150 - Accuracy: 0.9788 - val_loss: 0.8384 - val_Accuracy: 0.9785\n",
            "Epoch 2/10\n",
            "276/276 [==============================] - 11s 39ms/step - loss: 0.5165 - Accuracy: 0.9816 - val_loss: 0.2673 - val_Accuracy: 0.9854\n",
            "Epoch 3/10\n",
            "276/276 [==============================] - 10s 36ms/step - loss: 0.1389 - Accuracy: 0.9835 - val_loss: 0.1442 - val_Accuracy: 0.9854\n",
            "Epoch 4/10\n",
            "276/276 [==============================] - 10s 36ms/step - loss: 0.1046 - Accuracy: 0.9836 - val_loss: 0.1176 - val_Accuracy: 0.9854\n",
            "Epoch 5/10\n",
            "276/276 [==============================] - 10s 36ms/step - loss: 0.0985 - Accuracy: 0.9837 - val_loss: 0.1035 - val_Accuracy: 0.9854\n",
            "Epoch 6/10\n",
            "276/276 [==============================] - 10s 36ms/step - loss: 0.0944 - Accuracy: 0.9837 - val_loss: 0.1012 - val_Accuracy: 0.9854\n",
            "Epoch 7/10\n",
            "276/276 [==============================] - 10s 36ms/step - loss: 0.0916 - Accuracy: 0.9836 - val_loss: 0.0963 - val_Accuracy: 0.9854\n",
            "Epoch 8/10\n",
            "276/276 [==============================] - 10s 36ms/step - loss: 0.0894 - Accuracy: 0.9838 - val_loss: 0.0918 - val_Accuracy: 0.9854\n",
            "Epoch 9/10\n",
            "276/276 [==============================] - 10s 37ms/step - loss: 0.0876 - Accuracy: 0.9838 - val_loss: 0.0831 - val_Accuracy: 0.9854\n",
            "Epoch 10/10\n",
            "276/276 [==============================] - 10s 37ms/step - loss: 0.0865 - Accuracy: 0.9838 - val_loss: 0.0869 - val_Accuracy: 0.9854\n"
          ]
        }
      ],
      "source": [
        "history=model.fit(x_train,y_train, validation_data=(x_test,y_test),epochs=10)"
      ]
    },
    {
      "cell_type": "code",
      "execution_count": null,
      "metadata": {
        "id": "wOa2rmhCxjmA"
      },
      "outputs": [],
      "source": [
        "import numpy as np \n",
        "preds=np.argmax(model.predict(x_test),axis=1)"
      ]
    },
    {
      "cell_type": "code",
      "source": [
        ""
      ],
      "metadata": {
        "id": "H0ApTyJLZplQ"
      },
      "execution_count": null,
      "outputs": []
    },
    {
      "cell_type": "code",
      "source": [
        "len(preds)"
      ],
      "metadata": {
        "colab": {
          "base_uri": "https://localhost:8080/"
        },
        "id": "5IKP53iuNpwY",
        "outputId": "ebf226e9-46ab-4c78-f516-442d6929cbde"
      },
      "execution_count": null,
      "outputs": [
        {
          "output_type": "execute_result",
          "data": {
            "text/plain": [
              "180"
            ]
          },
          "metadata": {},
          "execution_count": 66
        }
      ]
    },
    {
      "cell_type": "code",
      "execution_count": null,
      "metadata": {
        "id": "zSqvOxyry-rG"
      },
      "outputs": [],
      "source": [
        "def get_word(n,tokenizer):\n",
        "  for word , index in tokenizer.word_index.items():\n",
        "    if index==n:\n",
        "      return word\n",
        "  return None\n",
        "  \n"
      ]
    },
    {
      "cell_type": "code",
      "source": [
        "\n",
        "preds_text=[]\n",
        "for i in preds:\n",
        "  temp=[]\n",
        "  for j in range(len(i)):\n",
        "    t=get_word(i[j],eng_tokenizer)\n",
        "    if j>0:\n",
        "      if (t==get_word(i[j-1],eng_tokenizer)) or (t==None):\n",
        "        temp.append('')\n",
        "      else:\n",
        "        temp.append(t)\n",
        "    else:\n",
        "        if (t==None):\n",
        "          temp.append('')\n",
        "        else:\n",
        "          temp.append(t)\n",
        "  preds_text.append(' '.join(temp))\n",
        "       "
      ],
      "metadata": {
        "id": "QKUnerHO0oD8"
      },
      "execution_count": null,
      "outputs": []
    },
    {
      "cell_type": "code",
      "source": [
        "preds_text"
      ],
      "metadata": {
        "id": "TvJsiHAbf0tn"
      },
      "execution_count": null,
      "outputs": []
    },
    {
      "cell_type": "code",
      "source": [
        "pred_df=pd.DataFrame({'actual':test[:,0],'predicted':preds_text})"
      ],
      "metadata": {
        "id": "NCNPHlBpzkAn"
      },
      "execution_count": null,
      "outputs": []
    },
    {
      "cell_type": "code",
      "source": [
        "pred_df.head(10)"
      ],
      "metadata": {
        "id": "LOLoLh3i37AY"
      },
      "execution_count": null,
      "outputs": []
    },
    {
      "cell_type": "code",
      "source": [
        ""
      ],
      "metadata": {
        "id": "Iqylv6kDCYAh"
      },
      "execution_count": null,
      "outputs": []
    },
    {
      "cell_type": "code",
      "source": [
        ""
      ],
      "metadata": {
        "id": "oHk54UIaCePT"
      },
      "execution_count": null,
      "outputs": []
    },
    {
      "cell_type": "code",
      "source": [
        ""
      ],
      "metadata": {
        "id": "01HsryiJB8Jw"
      },
      "execution_count": null,
      "outputs": []
    },
    {
      "cell_type": "code",
      "source": [
        ""
      ],
      "metadata": {
        "id": "gxc-ODw4CWrz"
      },
      "execution_count": null,
      "outputs": []
    }
  ],
  "metadata": {
    "colab": {
      "name": "Neural Translation Models",
      "provenance": [],
      "machine_shape": "hm",
      "authorship_tag": "ABX9TyN5YnupKISnBByUr7mM7fnP",
      "include_colab_link": true
    },
    "kernelspec": {
      "display_name": "Python 3",
      "name": "python3"
    },
    "language_info": {
      "name": "python"
    },
    "accelerator": "GPU"
  },
  "nbformat": 4,
  "nbformat_minor": 0
}