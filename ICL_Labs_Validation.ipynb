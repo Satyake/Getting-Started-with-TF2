{
  "nbformat": 4,
  "nbformat_minor": 0,
  "metadata": {
    "colab": {
      "name": "ICL-Labs- Validation",
      "provenance": [],
      "authorship_tag": "ABX9TyO3/v5s0lAIHISsaK/JCKf/",
      "include_colab_link": true
    },
    "kernelspec": {
      "name": "python3",
      "display_name": "Python 3"
    },
    "language_info": {
      "name": "python"
    }
  },
  "cells": [
    {
      "cell_type": "markdown",
      "metadata": {
        "id": "view-in-github",
        "colab_type": "text"
      },
      "source": [
        "<a href=\"https://colab.research.google.com/github/Satyake/Getting-Started-with-TF2/blob/main/ICL_Labs_Validation.ipynb\" target=\"_parent\"><img src=\"https://colab.research.google.com/assets/colab-badge.svg\" alt=\"Open In Colab\"/></a>"
      ]
    },
    {
      "cell_type": "code",
      "execution_count": null,
      "metadata": {
        "id": "dFgnzwqSZ3vC"
      },
      "outputs": [],
      "source": [
        "import tensorflow as tf "
      ]
    },
    {
      "cell_type": "code",
      "source": [
        "from sklearn.datasets import load_diabetes\n",
        "\n",
        "diabetes=load_diabetes()\n",
        "print(diabetes)"
      ],
      "metadata": {
        "colab": {
          "base_uri": "https://localhost:8080/"
        },
        "id": "103WywHxZ-V7",
        "outputId": "27296a5a-de64-4260-80dd-b49baf12330a"
      },
      "execution_count": null,
      "outputs": [
        {
          "output_type": "stream",
          "name": "stdout",
          "text": [
            "{'data': array([[ 0.03807591,  0.05068012,  0.06169621, ..., -0.00259226,\n",
            "         0.01990842, -0.01764613],\n",
            "       [-0.00188202, -0.04464164, -0.05147406, ..., -0.03949338,\n",
            "        -0.06832974, -0.09220405],\n",
            "       [ 0.08529891,  0.05068012,  0.04445121, ..., -0.00259226,\n",
            "         0.00286377, -0.02593034],\n",
            "       ...,\n",
            "       [ 0.04170844,  0.05068012, -0.01590626, ..., -0.01107952,\n",
            "        -0.04687948,  0.01549073],\n",
            "       [-0.04547248, -0.04464164,  0.03906215, ...,  0.02655962,\n",
            "         0.04452837, -0.02593034],\n",
            "       [-0.04547248, -0.04464164, -0.0730303 , ..., -0.03949338,\n",
            "        -0.00421986,  0.00306441]]), 'target': array([151.,  75., 141., 206., 135.,  97., 138.,  63., 110., 310., 101.,\n",
            "        69., 179., 185., 118., 171., 166., 144.,  97., 168.,  68.,  49.,\n",
            "        68., 245., 184., 202., 137.,  85., 131., 283., 129.,  59., 341.,\n",
            "        87.,  65., 102., 265., 276., 252.,  90., 100.,  55.,  61.,  92.,\n",
            "       259.,  53., 190., 142.,  75., 142., 155., 225.,  59., 104., 182.,\n",
            "       128.,  52.,  37., 170., 170.,  61., 144.,  52., 128.,  71., 163.,\n",
            "       150.,  97., 160., 178.,  48., 270., 202., 111.,  85.,  42., 170.,\n",
            "       200., 252., 113., 143.,  51.,  52., 210.,  65., 141.,  55., 134.,\n",
            "        42., 111.,  98., 164.,  48.,  96.,  90., 162., 150., 279.,  92.,\n",
            "        83., 128., 102., 302., 198.,  95.,  53., 134., 144., 232.,  81.,\n",
            "       104.,  59., 246., 297., 258., 229., 275., 281., 179., 200., 200.,\n",
            "       173., 180.,  84., 121., 161.,  99., 109., 115., 268., 274., 158.,\n",
            "       107.,  83., 103., 272.,  85., 280., 336., 281., 118., 317., 235.,\n",
            "        60., 174., 259., 178., 128.,  96., 126., 288.,  88., 292.,  71.,\n",
            "       197., 186.,  25.,  84.,  96., 195.,  53., 217., 172., 131., 214.,\n",
            "        59.,  70., 220., 268., 152.,  47.,  74., 295., 101., 151., 127.,\n",
            "       237., 225.,  81., 151., 107.,  64., 138., 185., 265., 101., 137.,\n",
            "       143., 141.,  79., 292., 178.,  91., 116.,  86., 122.,  72., 129.,\n",
            "       142.,  90., 158.,  39., 196., 222., 277.,  99., 196., 202., 155.,\n",
            "        77., 191.,  70.,  73.,  49.,  65., 263., 248., 296., 214., 185.,\n",
            "        78.,  93., 252., 150.,  77., 208.,  77., 108., 160.,  53., 220.,\n",
            "       154., 259.,  90., 246., 124.,  67.,  72., 257., 262., 275., 177.,\n",
            "        71.,  47., 187., 125.,  78.,  51., 258., 215., 303., 243.,  91.,\n",
            "       150., 310., 153., 346.,  63.,  89.,  50.,  39., 103., 308., 116.,\n",
            "       145.,  74.,  45., 115., 264.,  87., 202., 127., 182., 241.,  66.,\n",
            "        94., 283.,  64., 102., 200., 265.,  94., 230., 181., 156., 233.,\n",
            "        60., 219.,  80.,  68., 332., 248.,  84., 200.,  55.,  85.,  89.,\n",
            "        31., 129.,  83., 275.,  65., 198., 236., 253., 124.,  44., 172.,\n",
            "       114., 142., 109., 180., 144., 163., 147.,  97., 220., 190., 109.,\n",
            "       191., 122., 230., 242., 248., 249., 192., 131., 237.,  78., 135.,\n",
            "       244., 199., 270., 164.,  72.,  96., 306.,  91., 214.,  95., 216.,\n",
            "       263., 178., 113., 200., 139., 139.,  88., 148.,  88., 243.,  71.,\n",
            "        77., 109., 272.,  60.,  54., 221.,  90., 311., 281., 182., 321.,\n",
            "        58., 262., 206., 233., 242., 123., 167.,  63., 197.,  71., 168.,\n",
            "       140., 217., 121., 235., 245.,  40.,  52., 104., 132.,  88.,  69.,\n",
            "       219.,  72., 201., 110.,  51., 277.,  63., 118.,  69., 273., 258.,\n",
            "        43., 198., 242., 232., 175.,  93., 168., 275., 293., 281.,  72.,\n",
            "       140., 189., 181., 209., 136., 261., 113., 131., 174., 257.,  55.,\n",
            "        84.,  42., 146., 212., 233.,  91., 111., 152., 120.,  67., 310.,\n",
            "        94., 183.,  66., 173.,  72.,  49.,  64.,  48., 178., 104., 132.,\n",
            "       220.,  57.]), 'frame': None, 'DESCR': '.. _diabetes_dataset:\\n\\nDiabetes dataset\\n----------------\\n\\nTen baseline variables, age, sex, body mass index, average blood\\npressure, and six blood serum measurements were obtained for each of n =\\n442 diabetes patients, as well as the response of interest, a\\nquantitative measure of disease progression one year after baseline.\\n\\n**Data Set Characteristics:**\\n\\n  :Number of Instances: 442\\n\\n  :Number of Attributes: First 10 columns are numeric predictive values\\n\\n  :Target: Column 11 is a quantitative measure of disease progression one year after baseline\\n\\n  :Attribute Information:\\n      - age     age in years\\n      - sex\\n      - bmi     body mass index\\n      - bp      average blood pressure\\n      - s1      tc, total serum cholesterol\\n      - s2      ldl, low-density lipoproteins\\n      - s3      hdl, high-density lipoproteins\\n      - s4      tch, total cholesterol / HDL\\n      - s5      ltg, possibly log of serum triglycerides level\\n      - s6      glu, blood sugar level\\n\\nNote: Each of these 10 feature variables have been mean centered and scaled by the standard deviation times `n_samples` (i.e. the sum of squares of each column totals 1).\\n\\nSource URL:\\nhttps://www4.stat.ncsu.edu/~boos/var.select/diabetes.html\\n\\nFor more information see:\\nBradley Efron, Trevor Hastie, Iain Johnstone and Robert Tibshirani (2004) \"Least Angle Regression,\" Annals of Statistics (with discussion), 407-499.\\n(https://web.stanford.edu/~hastie/Papers/LARS/LeastAngle_2002.pdf)', 'feature_names': ['age', 'sex', 'bmi', 'bp', 's1', 's2', 's3', 's4', 's5', 's6'], 'data_filename': 'diabetes_data.csv.gz', 'target_filename': 'diabetes_target.csv.gz', 'data_module': 'sklearn.datasets.data'}\n"
          ]
        }
      ]
    },
    {
      "cell_type": "code",
      "source": [
        "data"
      ],
      "metadata": {
        "colab": {
          "base_uri": "https://localhost:8080/"
        },
        "id": "1aSLn8jfbt1r",
        "outputId": "89de3256-07fc-4fa7-94f9-a540e24950a8"
      },
      "execution_count": null,
      "outputs": [
        {
          "output_type": "execute_result",
          "data": {
            "text/plain": [
              "MinMaxScaler()"
            ]
          },
          "metadata": {},
          "execution_count": 28
        }
      ]
    },
    {
      "cell_type": "code",
      "source": [
        "data=diabetes['data']\n",
        "targets=diabetes['target']"
      ],
      "metadata": {
        "id": "WUA2cVDcaJLW"
      },
      "execution_count": null,
      "outputs": []
    },
    {
      "cell_type": "code",
      "source": [
        "data"
      ],
      "metadata": {
        "colab": {
          "base_uri": "https://localhost:8080/"
        },
        "id": "VHYz0pzfbweT",
        "outputId": "112fb7c5-5219-422a-a6f3-627a67902639"
      },
      "execution_count": null,
      "outputs": [
        {
          "output_type": "execute_result",
          "data": {
            "text/plain": [
              "array([[ 0.03807591,  0.05068012,  0.06169621, ..., -0.00259226,\n",
              "         0.01990842, -0.01764613],\n",
              "       [-0.00188202, -0.04464164, -0.05147406, ..., -0.03949338,\n",
              "        -0.06832974, -0.09220405],\n",
              "       [ 0.08529891,  0.05068012,  0.04445121, ..., -0.00259226,\n",
              "         0.00286377, -0.02593034],\n",
              "       ...,\n",
              "       [ 0.04170844,  0.05068012, -0.01590626, ..., -0.01107952,\n",
              "        -0.04687948,  0.01549073],\n",
              "       [-0.04547248, -0.04464164,  0.03906215, ...,  0.02655962,\n",
              "         0.04452837, -0.02593034],\n",
              "       [-0.04547248, -0.04464164, -0.0730303 , ..., -0.03949338,\n",
              "        -0.00421986,  0.00306441]])"
            ]
          },
          "metadata": {},
          "execution_count": 30
        }
      ]
    },
    {
      "cell_type": "code",
      "source": [
        "from sklearn.preprocessing import MinMaxScaler\n",
        "msc=MinMaxScaler()"
      ],
      "metadata": {
        "id": "8O7SFq-uabuY"
      },
      "execution_count": null,
      "outputs": []
    },
    {
      "cell_type": "code",
      "source": [
        "data=msc.fit_transform(data)"
      ],
      "metadata": {
        "id": "zNWEPGzsbNls"
      },
      "execution_count": null,
      "outputs": []
    },
    {
      "cell_type": "code",
      "source": [
        "targets"
      ],
      "metadata": {
        "colab": {
          "base_uri": "https://localhost:8080/"
        },
        "id": "Z5vat6ioa1dY",
        "outputId": "77a945f1-1d26-4fd6-eb02-7daff540d5cc"
      },
      "execution_count": null,
      "outputs": [
        {
          "output_type": "execute_result",
          "data": {
            "text/plain": [
              "array([151.,  75., 141., 206., 135.,  97., 138.,  63., 110., 310., 101.,\n",
              "        69., 179., 185., 118., 171., 166., 144.,  97., 168.,  68.,  49.,\n",
              "        68., 245., 184., 202., 137.,  85., 131., 283., 129.,  59., 341.,\n",
              "        87.,  65., 102., 265., 276., 252.,  90., 100.,  55.,  61.,  92.,\n",
              "       259.,  53., 190., 142.,  75., 142., 155., 225.,  59., 104., 182.,\n",
              "       128.,  52.,  37., 170., 170.,  61., 144.,  52., 128.,  71., 163.,\n",
              "       150.,  97., 160., 178.,  48., 270., 202., 111.,  85.,  42., 170.,\n",
              "       200., 252., 113., 143.,  51.,  52., 210.,  65., 141.,  55., 134.,\n",
              "        42., 111.,  98., 164.,  48.,  96.,  90., 162., 150., 279.,  92.,\n",
              "        83., 128., 102., 302., 198.,  95.,  53., 134., 144., 232.,  81.,\n",
              "       104.,  59., 246., 297., 258., 229., 275., 281., 179., 200., 200.,\n",
              "       173., 180.,  84., 121., 161.,  99., 109., 115., 268., 274., 158.,\n",
              "       107.,  83., 103., 272.,  85., 280., 336., 281., 118., 317., 235.,\n",
              "        60., 174., 259., 178., 128.,  96., 126., 288.,  88., 292.,  71.,\n",
              "       197., 186.,  25.,  84.,  96., 195.,  53., 217., 172., 131., 214.,\n",
              "        59.,  70., 220., 268., 152.,  47.,  74., 295., 101., 151., 127.,\n",
              "       237., 225.,  81., 151., 107.,  64., 138., 185., 265., 101., 137.,\n",
              "       143., 141.,  79., 292., 178.,  91., 116.,  86., 122.,  72., 129.,\n",
              "       142.,  90., 158.,  39., 196., 222., 277.,  99., 196., 202., 155.,\n",
              "        77., 191.,  70.,  73.,  49.,  65., 263., 248., 296., 214., 185.,\n",
              "        78.,  93., 252., 150.,  77., 208.,  77., 108., 160.,  53., 220.,\n",
              "       154., 259.,  90., 246., 124.,  67.,  72., 257., 262., 275., 177.,\n",
              "        71.,  47., 187., 125.,  78.,  51., 258., 215., 303., 243.,  91.,\n",
              "       150., 310., 153., 346.,  63.,  89.,  50.,  39., 103., 308., 116.,\n",
              "       145.,  74.,  45., 115., 264.,  87., 202., 127., 182., 241.,  66.,\n",
              "        94., 283.,  64., 102., 200., 265.,  94., 230., 181., 156., 233.,\n",
              "        60., 219.,  80.,  68., 332., 248.,  84., 200.,  55.,  85.,  89.,\n",
              "        31., 129.,  83., 275.,  65., 198., 236., 253., 124.,  44., 172.,\n",
              "       114., 142., 109., 180., 144., 163., 147.,  97., 220., 190., 109.,\n",
              "       191., 122., 230., 242., 248., 249., 192., 131., 237.,  78., 135.,\n",
              "       244., 199., 270., 164.,  72.,  96., 306.,  91., 214.,  95., 216.,\n",
              "       263., 178., 113., 200., 139., 139.,  88., 148.,  88., 243.,  71.,\n",
              "        77., 109., 272.,  60.,  54., 221.,  90., 311., 281., 182., 321.,\n",
              "        58., 262., 206., 233., 242., 123., 167.,  63., 197.,  71., 168.,\n",
              "       140., 217., 121., 235., 245.,  40.,  52., 104., 132.,  88.,  69.,\n",
              "       219.,  72., 201., 110.,  51., 277.,  63., 118.,  69., 273., 258.,\n",
              "        43., 198., 242., 232., 175.,  93., 168., 275., 293., 281.,  72.,\n",
              "       140., 189., 181., 209., 136., 261., 113., 131., 174., 257.,  55.,\n",
              "        84.,  42., 146., 212., 233.,  91., 111., 152., 120.,  67., 310.,\n",
              "        94., 183.,  66., 173.,  72.,  49.,  64.,  48., 178., 104., 132.,\n",
              "       220.,  57.])"
            ]
          },
          "metadata": {},
          "execution_count": 56
        }
      ]
    },
    {
      "cell_type": "code",
      "source": [
        "from sklearn.model_selection import train_test_split"
      ],
      "metadata": {
        "id": "ZWX4VMS9c4ay"
      },
      "execution_count": null,
      "outputs": []
    },
    {
      "cell_type": "code",
      "source": [
        "x_train,x_test,y_train,y_test=train_test_split(data,targets,random_state=0, test_size=0.1)"
      ],
      "metadata": {
        "id": "Eg-hqcGNb0Q3"
      },
      "execution_count": null,
      "outputs": []
    },
    {
      "cell_type": "code",
      "source": [
        "print(x_train.shape)\n",
        "print(y_train.shape)"
      ],
      "metadata": {
        "colab": {
          "base_uri": "https://localhost:8080/"
        },
        "id": "2sLaWz1sdGYP",
        "outputId": "67827956-ce52-48f6-a056-0b5112761644"
      },
      "execution_count": null,
      "outputs": [
        {
          "output_type": "stream",
          "name": "stdout",
          "text": [
            "(397, 10)\n",
            "(397,)\n"
          ]
        }
      ]
    },
    {
      "cell_type": "code",
      "source": [
        "from tensorflow.keras.models import Sequential\n",
        "from tensorflow.keras.layers import Dense,Dropout,BatchNormalization\n",
        "from tensorflow.keras import regularizers\n"
      ],
      "metadata": {
        "id": "C_rTyEzqdJv0"
      },
      "execution_count": null,
      "outputs": []
    },
    {
      "cell_type": "code",
      "source": [
        "def model():\n",
        "  model=Sequential([\n",
        "                    Dense(128,activation='relu',input_shape=(x_train.shape[1],)),\n",
        "                    Dense(128, activation='relu'),\n",
        "                    Dense(128, activation='relu'),\n",
        "                    Dense(128, activation='relu'),\n",
        "                    Dense(128, activation='relu'),\n",
        "                    Dense(128, activation='relu'),\n",
        "                    Dense(128, activation='relu'),\n",
        "                    Dense(128, activation='relu'),\n",
        "                    Dense(1)])\n",
        "  return model"
      ],
      "metadata": {
        "id": "4kp50E-KdeK-"
      },
      "execution_count": null,
      "outputs": []
    },
    {
      "cell_type": "code",
      "source": [
        "def regularized_model(wd,rate):\n",
        "    model=Sequential([\n",
        "                    Dense(128,activation='relu',input_shape=(x_train.shape[1],)),\n",
        "                    Dense(128, kernel_regularizer=regularizers.L2(wd), activation='relu'),\n",
        "                    Dropout(rate),\n",
        "                    BatchNormalization(),\n",
        "                    Dense(128, kernel_regularizer=regularizers.L2(wd),activation='relu'),\n",
        "                    Dense(128, kernel_regularizer=regularizers.L2(wd),activation='relu'),\n",
        "                    Dense(128, kernel_regularizer=regularizers.L2(wd),activation='relu'),\n",
        "                    Dropout(rate),\n",
        "                    Dense(128, kernel_regularizer=regularizers.L2(wd), activation='relu'),\n",
        "                    Dense(128, kernel_regularizer=regularizers.L2(wd),activation='relu'),\n",
        "                    Dropout(rate),\n",
        "                    Dense(128, activation='relu'),\n",
        "                    Dense(1)])\n",
        "    return model"
      ],
      "metadata": {
        "id": "cIca_U5Hglh0"
      },
      "execution_count": null,
      "outputs": []
    },
    {
      "cell_type": "code",
      "source": [
        "\n",
        "model=regularized_model(0.0001,0.2)\n",
        "model.summary()"
      ],
      "metadata": {
        "colab": {
          "base_uri": "https://localhost:8080/"
        },
        "id": "qmj_4YW0eVHk",
        "outputId": "bc12f7a1-3158-4907-d8c6-b1bace8ab35e"
      },
      "execution_count": null,
      "outputs": [
        {
          "output_type": "stream",
          "name": "stdout",
          "text": [
            "Model: \"sequential_5\"\n",
            "_________________________________________________________________\n",
            " Layer (type)                Output Shape              Param #   \n",
            "=================================================================\n",
            " dense_37 (Dense)            (None, 128)               1408      \n",
            "                                                                 \n",
            " dense_38 (Dense)            (None, 128)               16512     \n",
            "                                                                 \n",
            " dropout_3 (Dropout)         (None, 128)               0         \n",
            "                                                                 \n",
            " batch_normalization (BatchN  (None, 128)              512       \n",
            " ormalization)                                                   \n",
            "                                                                 \n",
            " dense_39 (Dense)            (None, 128)               16512     \n",
            "                                                                 \n",
            " dense_40 (Dense)            (None, 128)               16512     \n",
            "                                                                 \n",
            " dense_41 (Dense)            (None, 128)               16512     \n",
            "                                                                 \n",
            " dropout_4 (Dropout)         (None, 128)               0         \n",
            "                                                                 \n",
            " dense_42 (Dense)            (None, 128)               16512     \n",
            "                                                                 \n",
            " dense_43 (Dense)            (None, 128)               16512     \n",
            "                                                                 \n",
            " dropout_5 (Dropout)         (None, 128)               0         \n",
            "                                                                 \n",
            " dense_44 (Dense)            (None, 128)               16512     \n",
            "                                                                 \n",
            " dense_45 (Dense)            (None, 1)                 129       \n",
            "                                                                 \n",
            "=================================================================\n",
            "Total params: 117,633\n",
            "Trainable params: 117,377\n",
            "Non-trainable params: 256\n",
            "_________________________________________________________________\n"
          ]
        }
      ]
    },
    {
      "cell_type": "code",
      "source": [
        "model.compile(optimizer='adam',loss='mse',metrics=['mse'])"
      ],
      "metadata": {
        "id": "QQZRGYTLeiyq"
      },
      "execution_count": null,
      "outputs": []
    },
    {
      "cell_type": "code",
      "source": [
        "history=model.fit(x_train,y_train, epochs=100,validation_split=0.2,batch_size=12,verbose=False)"
      ],
      "metadata": {
        "id": "04jduvNcewC8"
      },
      "execution_count": null,
      "outputs": []
    },
    {
      "cell_type": "code",
      "source": [
        "model.evaluate(x_test,y_test,verbose=2)"
      ],
      "metadata": {
        "colab": {
          "base_uri": "https://localhost:8080/"
        },
        "id": "S0oW3sgAfmVU",
        "outputId": "f41d04ed-9c3b-41d4-e035-5d9c4b78b5fe"
      },
      "execution_count": null,
      "outputs": [
        {
          "output_type": "stream",
          "name": "stdout",
          "text": [
            "2/2 - 0s - loss: 5173.7290 - mse: 5173.6484 - 22ms/epoch - 11ms/step\n"
          ]
        },
        {
          "output_type": "execute_result",
          "data": {
            "text/plain": [
              "[5173.72900390625, 5173.6484375]"
            ]
          },
          "metadata": {},
          "execution_count": 104
        }
      ]
    },
    {
      "cell_type": "code",
      "source": [
        "import matplotlib.pyplot as plt\n"
      ],
      "metadata": {
        "id": "IaZ_OEt4f743"
      },
      "execution_count": null,
      "outputs": []
    },
    {
      "cell_type": "code",
      "source": [
        "plt.plot(history.history['loss'])\n",
        "plt.plot(history.history['val_loss'])\n",
        "plt.ylabel('Loss')\n",
        "plt.xlabel('Epochs')"
      ],
      "metadata": {
        "colab": {
          "base_uri": "https://localhost:8080/",
          "height": 296
        },
        "id": "ZZojvjgpgGDU",
        "outputId": "e8d05b4e-3c4e-4586-c237-8ce71af0b83c"
      },
      "execution_count": null,
      "outputs": [
        {
          "output_type": "execute_result",
          "data": {
            "text/plain": [
              "Text(0.5, 0, 'Epochs')"
            ]
          },
          "metadata": {},
          "execution_count": 106
        },
        {
          "output_type": "display_data",
          "data": {
            "image/png": "[encoded data removed]",
            "text/plain": [
              "<Figure size 432x288 with 1 Axes>"
            ]
          },
          "metadata": {
            "needs_background": "light"
          }
        }
      ]
    },
    {
      "cell_type": "code",
      "source": [
        "#Custom Callbacks"
      ],
      "metadata": {
        "id": "X5_qkkcbiGgF"
      },
      "execution_count": null,
      "outputs": []
    },
    {
      "cell_type": "code",
      "source": [
        "from tensorflow.keras.callbacks import Callback\n",
        "\n",
        "class TrainingCallback(Callback):\n",
        "  def on_train_begin(self,logs=None):\n",
        "    print('starting training')\n",
        "\n",
        "  def on_epoch_begin(self,epoch,logs=None):\n",
        "    print('Staring Epoch {}'.format(epoch))\n",
        "\n",
        "  def on_train_batch_begin(self,batch, logs=None):\n",
        "    print('Training: Starting batch {}'.format(batch))\n",
        "\n",
        "  def on_train_batch_end(self,batch,logs=None):\n",
        "    print('Training: Finished batch {}'.format(batch))\n",
        "\n",
        "  def on_epoch_end(self,epoch,logs=None):\n",
        "    print('Finished epoch {}'.format(epoch))\n",
        "\n",
        "  def on_train_end(self,logs=None):\n",
        "    print('Finished training!')"
      ],
      "metadata": {
        "id": "NSlC_WpniI0M"
      },
      "execution_count": null,
      "outputs": []
    },
    {
      "cell_type": "code",
      "source": [
        "from tensorflow.keras.callbacks import Callback\n",
        "\n",
        "class PredictionCallback(Callback):\n",
        "  def on_predict_begin(self,logs=None):\n",
        "    print('starting training')\n",
        "\n",
        "  def on_epoch_begin(self,epoch,logs=None):\n",
        "    print('Staring Epoch {}'.format(epoch))\n",
        "\n",
        "  def on_predict_batch_begin(self,batch, logs=None):\n",
        "    print('Training: Starting batch {}'.format(batch))\n",
        "\n",
        "  def on_predict_batch_end(self,batch,logs=None):\n",
        "    print('Training: Finished batch {}'.format(batch))\n",
        "\n",
        "  def on_epoch_end(self,epoch,logs=None):\n",
        "    print('Finished epoch {}'.format(epoch))\n",
        "\n",
        "  def on_predict_end(self,logs=None):\n",
        "    print('Finished training!')"
      ],
      "metadata": {
        "id": "YqWE2NEBM_xr"
      },
      "execution_count": null,
      "outputs": []
    },
    {
      "cell_type": "code",
      "source": [
        "model=regularized_model(0.00001, 0.3)"
      ],
      "metadata": {
        "id": "v-w_JIs4jRm6"
      },
      "execution_count": null,
      "outputs": []
    },
    {
      "cell_type": "code",
      "source": [
        "model.compile(optimizer='adam',loss='mse')\n",
        "model.fit(x_train, y_train, epochs=3, batch_size=128, callbacks=[TrainingCallback()])"
      ],
      "metadata": {
        "colab": {
          "base_uri": "https://localhost:8080/"
        },
        "id": "EbgINVfQjVfD",
        "outputId": "fff3dba5-b03c-4edc-abf6-49526f0c7fce"
      },
      "execution_count": null,
      "outputs": [
        {
          "output_type": "stream",
          "name": "stdout",
          "text": [
            "starting training\n",
            "Staring Epoch 0\n",
            "Epoch 1/3\n",
            "Training: Starting batch 0\n",
            "Training: Finished batch 0\n",
            "1/4 [======>.......................] - ETA: 3s - loss: 30253.8398Training: Starting batch 1\n",
            "Training: Finished batch 1\n",
            "Training: Starting batch 2\n",
            "Training: Finished batch 2\n",
            "Training: Starting batch 3\n",
            "Training: Finished batch 3\n",
            "Finished epoch 0\n",
            "4/4 [==============================] - 1s 8ms/step - loss: 28728.1738\n",
            "Staring Epoch 1\n",
            "Epoch 2/3\n",
            "Training: Starting batch 0\n",
            "Training: Finished batch 0\n",
            "1/4 [======>.......................] - ETA: 0s - loss: 27228.6719Training: Starting batch 1\n",
            "Training: Finished batch 1\n",
            "Training: Starting batch 2\n",
            "Training: Finished batch 2\n",
            "Training: Starting batch 3\n",
            "Training: Finished batch 3\n",
            "Finished epoch 1\n",
            "4/4 [==============================] - 0s 9ms/step - loss: 28272.4180\n",
            "Staring Epoch 2\n",
            "Epoch 3/3\n",
            "Training: Starting batch 0\n",
            "Training: Finished batch 0\n",
            "1/4 [======>.......................] - ETA: 0s - loss: 27961.4688Training: Starting batch 1\n",
            "Training: Finished batch 1\n",
            "Training: Starting batch 2\n",
            "Training: Finished batch 2\n",
            "Training: Starting batch 3\n",
            "Training: Finished batch 3\n",
            "Finished epoch 2\n",
            "4/4 [==============================] - 0s 8ms/step - loss: 26965.7207\n",
            "Finished training!\n"
          ]
        },
        {
          "output_type": "execute_result",
          "data": {
            "text/plain": [
              "<keras.callbacks.History at 0x7f67f9cc7450>"
            ]
          },
          "metadata": {},
          "execution_count": 140
        }
      ]
    },
    {
      "cell_type": "code",
      "source": [
        "model.evaluate(x_test,y_test,verbose=False,callbacks=[TestingCallback()])"
      ],
      "metadata": {
        "colab": {
          "base_uri": "https://localhost:8080/"
        },
        "id": "RPRSEJbzjsyZ",
        "outputId": "1e22214b-4f76-409c-c1fb-8c34c337786b"
      },
      "execution_count": null,
      "outputs": [
        {
          "output_type": "stream",
          "name": "stdout",
          "text": [
            "Training: Starting batch 0\n",
            "Training: Starting batch 1\n"
          ]
        },
        {
          "output_type": "execute_result",
          "data": {
            "text/plain": [
              "30943.53515625"
            ]
          },
          "metadata": {},
          "execution_count": 141
        }
      ]
    },
    {
      "cell_type": "code",
      "source": [
        "model.predict(x_test,verbose=False, callbacks=[PredictionCallback()])"
      ],
      "metadata": {
        "colab": {
          "base_uri": "https://localhost:8080/"
        },
        "id": "h9wUohr5M4Sz",
        "outputId": "588e92fa-4205-4fd4-e775-c5e2bd90c6f9"
      },
      "execution_count": null,
      "outputs": [
        {
          "output_type": "stream",
          "name": "stdout",
          "text": [
            "starting training\n",
            "Training: Starting batch 0\n",
            "Training: Finished batch 0\n",
            "Training: Starting batch 1\n",
            "Training: Finished batch 1\n",
            "Finished training!\n"
          ]
        },
        {
          "output_type": "execute_result",
          "data": {
            "text/plain": [
              "array([[3.2079167],\n",
              "       [2.8422704],\n",
              "       [3.2272851],\n",
              "       [2.1964087],\n",
              "       [2.3575094],\n",
              "       [2.5065174],\n",
              "       [2.205443 ],\n",
              "       [3.3954885],\n",
              "       [1.9553818],\n",
              "       [2.3315237],\n",
              "       [2.1770496],\n",
              "       [3.4042904],\n",
              "       [2.9732013],\n",
              "       [1.701799 ],\n",
              "       [3.725678 ],\n",
              "       [2.5834718],\n",
              "       [1.9689888],\n",
              "       [2.099556 ],\n",
              "       [1.5508279],\n",
              "       [2.9418535],\n",
              "       [2.971642 ],\n",
              "       [2.0404425],\n",
              "       [3.362825 ],\n",
              "       [1.9057145],\n",
              "       [3.1886778],\n",
              "       [2.6608791],\n",
              "       [2.680948 ],\n",
              "       [1.9877058],\n",
              "       [2.374969 ],\n",
              "       [3.1684055],\n",
              "       [3.365227 ],\n",
              "       [1.8915993],\n",
              "       [1.7700574],\n",
              "       [2.4194875],\n",
              "       [3.1586237],\n",
              "       [2.4718423],\n",
              "       [2.540669 ],\n",
              "       [3.628985 ],\n",
              "       [2.3387027],\n",
              "       [2.6895862],\n",
              "       [2.155357 ],\n",
              "       [3.1366034],\n",
              "       [2.6917095],\n",
              "       [2.3787658],\n",
              "       [3.3535035]], dtype=float32)"
            ]
          },
          "metadata": {},
          "execution_count": 143
        }
      ]
    },
    {
      "cell_type": "code",
      "source": [
        "#Early stopping and patience"
      ],
      "metadata": {
        "id": "63POl8pHNbJz"
      },
      "execution_count": null,
      "outputs": []
    },
    {
      "cell_type": "code",
      "source": [
        "unregularized_model=model()\n",
        "unregularized_model.compile(optimizer='adam',loss='mse')\n",
        "unreg_history=unregularized_model.fit(x_train,y_train,epochs=100,verbose=True,validation_split=0.15,\n",
        "                                      callbacks=[tf.keras.callbacks.EarlyStopping(patience=4)])\n"
      ],
      "metadata": {
        "colab": {
          "base_uri": "https://localhost:8080/"
        },
        "id": "a8ixSbKZNeKX",
        "outputId": "961e5fc2-46a4-40ee-df71-4625ec88ef0f"
      },
      "execution_count": null,
      "outputs": [
        {
          "output_type": "stream",
          "name": "stdout",
          "text": [
            "Epoch 1/100\n",
            "11/11 [==============================] - 1s 24ms/step - loss: 27983.1504 - val_loss: 30140.4746\n",
            "Epoch 2/100\n",
            "11/11 [==============================] - 0s 8ms/step - loss: 20716.4238 - val_loss: 6516.4438\n",
            "Epoch 3/100\n",
            "11/11 [==============================] - 0s 7ms/step - loss: 6292.1631 - val_loss: 7111.8813\n",
            "Epoch 4/100\n",
            "11/11 [==============================] - 0s 9ms/step - loss: 5381.5996 - val_loss: 5603.1167\n",
            "Epoch 5/100\n",
            "11/11 [==============================] - 0s 8ms/step - loss: 4598.7441 - val_loss: 5112.9590\n",
            "Epoch 6/100\n",
            "11/11 [==============================] - 0s 7ms/step - loss: 4035.6772 - val_loss: 4434.4634\n",
            "Epoch 7/100\n",
            "11/11 [==============================] - 0s 7ms/step - loss: 3893.1355 - val_loss: 4264.1265\n",
            "Epoch 8/100\n",
            "11/11 [==============================] - 0s 8ms/step - loss: 3741.7241 - val_loss: 4446.0967\n",
            "Epoch 9/100\n",
            "11/11 [==============================] - 0s 7ms/step - loss: 3464.2041 - val_loss: 3766.3845\n",
            "Epoch 10/100\n",
            "11/11 [==============================] - 0s 8ms/step - loss: 3262.5801 - val_loss: 3876.3398\n",
            "Epoch 11/100\n",
            "11/11 [==============================] - 0s 9ms/step - loss: 3186.4158 - val_loss: 3438.9224\n",
            "Epoch 12/100\n",
            "11/11 [==============================] - 0s 7ms/step - loss: 3057.8083 - val_loss: 3219.3218\n",
            "Epoch 13/100\n",
            "11/11 [==============================] - 0s 9ms/step - loss: 3104.3552 - val_loss: 3297.5027\n",
            "Epoch 14/100\n",
            "11/11 [==============================] - 0s 9ms/step - loss: 3068.0186 - val_loss: 3073.7617\n",
            "Epoch 15/100\n",
            "11/11 [==============================] - 0s 9ms/step - loss: 2956.0635 - val_loss: 3067.5054\n",
            "Epoch 16/100\n",
            "11/11 [==============================] - 0s 8ms/step - loss: 3010.5120 - val_loss: 3130.6453\n",
            "Epoch 17/100\n",
            "11/11 [==============================] - 0s 11ms/step - loss: 3239.2642 - val_loss: 3251.7087\n",
            "Epoch 18/100\n",
            "11/11 [==============================] - 0s 9ms/step - loss: 3009.3489 - val_loss: 3539.3228\n",
            "Epoch 19/100\n",
            "11/11 [==============================] - 0s 11ms/step - loss: 2823.9031 - val_loss: 3032.4683\n",
            "Epoch 20/100\n",
            "11/11 [==============================] - 0s 7ms/step - loss: 2931.5669 - val_loss: 3174.3015\n",
            "Epoch 21/100\n",
            "11/11 [==============================] - 0s 8ms/step - loss: 2814.0823 - val_loss: 3594.9351\n",
            "Epoch 22/100\n",
            "11/11 [==============================] - 0s 8ms/step - loss: 2945.8088 - val_loss: 3039.8328\n",
            "Epoch 23/100\n",
            "11/11 [==============================] - 0s 8ms/step - loss: 2820.3650 - val_loss: 3079.9709\n"
          ]
        }
      ]
    },
    {
      "cell_type": "code",
      "source": [
        "unregularized_model.evaluate(x_test,y_test, verbose=2)"
      ],
      "metadata": {
        "colab": {
          "base_uri": "https://localhost:8080/"
        },
        "id": "sqz436tSP4cI",
        "outputId": "2b2c5a8a-fb38-4743-db60-a3ea3c001938"
      },
      "execution_count": null,
      "outputs": [
        {
          "output_type": "stream",
          "name": "stdout",
          "text": [
            "2/2 - 0s - loss: 6537.4790 - 22ms/epoch - 11ms/step\n"
          ]
        },
        {
          "output_type": "execute_result",
          "data": {
            "text/plain": [
              "6537.47900390625"
            ]
          },
          "metadata": {},
          "execution_count": 163
        }
      ]
    },
    {
      "cell_type": "code",
      "source": [
        "regularized_model=regularized_model(0.0001, 0.2)\n",
        "regularized_model.compile(optimizer='adam',loss='mse')\n",
        "reg_history=regularized_model.fit(x_train,y_train,epochs=100,verbose=False,validation_split=0.15,\n",
        "                                      callbacks=[tf.keras.callbacks.EarlyStopping(patience=4)])\n"
      ],
      "metadata": {
        "id": "G--EVysZP-rG"
      },
      "execution_count": null,
      "outputs": []
    },
    {
      "cell_type": "code",
      "source": [
        "regularized_model.evaluate(x_test,y_test,verbose=2)"
      ],
      "metadata": {
        "colab": {
          "base_uri": "https://localhost:8080/"
        },
        "id": "N3nuiHydQXZp",
        "outputId": "3dbf1655-64b7-41d4-f4b2-20e329c057d7"
      },
      "execution_count": null,
      "outputs": [
        {
          "output_type": "stream",
          "name": "stdout",
          "text": [
            "2/2 - 0s - loss: 16541.3574 - 29ms/epoch - 14ms/step\n"
          ]
        },
        {
          "output_type": "execute_result",
          "data": {
            "text/plain": [
              "16541.357421875"
            ]
          },
          "metadata": {},
          "execution_count": 165
        }
      ]
    },
    {
      "cell_type": "code",
      "source": [
        "plt.plot(unreg_history.history['loss'])\n",
        "plt.plot(unreg_history.history['val_loss'])\n",
        "\n"
      ],
      "metadata": {
        "colab": {
          "base_uri": "https://localhost:8080/",
          "height": 282
        },
        "id": "wqTXjiQ1QLmK",
        "outputId": "595fa189-05a9-4727-ecfc-d83b19b8a58c"
      },
      "execution_count": null,
      "outputs": [
        {
          "output_type": "execute_result",
          "data": {
            "text/plain": [
              "[<matplotlib.lines.Line2D at 0x7f67f3958f90>]"
            ]
          },
          "metadata": {},
          "execution_count": 183
        },
        {
          "output_type": "display_data",
          "data": {
            "image/png": "[encoded data removed]",
            "text/plain": [
              "<Figure size 432x288 with 1 Axes>"
            ]
          },
          "metadata": {
            "needs_background": "light"
          }
        }
      ]
    },
    {
      "cell_type": "code",
      "source": [
        "plt.plot(reg_history.history['loss'])\n",
        "plt.plot(reg_history.history['val_loss'])"
      ],
      "metadata": {
        "colab": {
          "base_uri": "https://localhost:8080/",
          "height": 282
        },
        "id": "adl_4mPRQnf_",
        "outputId": "9c6d222e-6844-4c3d-982f-ab618be0e8a2"
      },
      "execution_count": null,
      "outputs": [
        {
          "output_type": "execute_result",
          "data": {
            "text/plain": [
              "[<matplotlib.lines.Line2D at 0x7f67f391d290>]"
            ]
          },
          "metadata": {},
          "execution_count": 184
        },
        {
          "output_type": "display_data",
          "data": {
            "image/png": "[encoded data removed]",
            "text/plain": [
              "<Figure size 432x288 with 1 Axes>"
            ]
          },
          "metadata": {
            "needs_background": "light"
          }
        }
      ]
    },
    {
      "cell_type": "code",
      "source": [
        ""
      ],
      "metadata": {
        "id": "CPzGRfSXjEyl"
      },
      "execution_count": null,
      "outputs": []
    }
  ]
}